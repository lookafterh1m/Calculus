{
 "cells": [
  {
   "cell_type": "code",
   "execution_count": 1,
   "outputs": [],
   "source": [
    "from math import cos, pi\n",
    "from IPython.display import display, Latex, Markdown\n",
    "\n",
    "\n",
    "def func_Runge(x: float):\n",
    "    return round((1 + x ** 2) ** -1, 3)\n",
    "\n",
    "\n",
    "def get_default_nodes(n: int):\n",
    "    h = 2 / n\n",
    "    nodes_x = [round(-1 + k * h, 3) for k in range(n + 1)]\n",
    "    nodes_f = [func_Runge(x) for x in nodes_x]\n",
    "    return nodes_x, nodes_f"
   ],
   "metadata": {
    "collapsed": false,
    "pycharm": {
     "name": "#%%\n"
    }
   }
  },
  {
   "cell_type": "markdown",
   "metadata": {},
   "source": [
    "# Интерполирование сплайнами\n",
    "Пусть $f(x)=\\dfrac{1}{1+x^2},\\:x\\in\\left[-1;1\\right]$.<br>\n",
    "Вычислить значения функции для $x=-1+\\dfrac{h}{2},\\:-\\dfrac{h}{2},\\:\\dfrac{h}{2}$,\n",
    "$\\:1-\\dfrac{h}{2},\\:\\left(h=\\dfrac{2}{n},\\:n=4,\\:10, \\:20,\\:40\\right)$, применяя\n",
    "различные способы интерполирования:<br>\n",
    "$1.$ Интерполяционный полином Лагранжа (схема Эйткена) с узлами\n",
    "$x_k=-1+kh,\\:k=0,\\ldots,n$.<br>\n",
    "$2.$ Интерполяционный полином Лагранжа (схема Эйткена) с узлами\n",
    "$x_k=\\cos\\dfrac{2k+1}{2(n+1)}\\pi,\\:k=0,\\ldots,n).$<br>\n",
    "$3.$ Сплайн $S_{11}(f,x)$ с узлами $x_k=-1+kh,\\:k=0,\\ldots,n$.<br>\n",
    "$4.$ Сплайн $S_{32}(f,x)$ с узлами $x_k=-1+kh,\\:k=0,\\ldots,n$.\n",
    "\n",
    "## 1.Интерполяционный полином Лагранжа\n",
    "Схема Эйткена с узлами $x_k=-1+kh,\\:k=0,\\ldots,n$."
   ]
  },
  {
   "cell_type": "code",
   "execution_count": 2,
   "metadata": {
    "pycharm": {
     "name": "#%%\n"
    }
   },
   "outputs": [
    {
     "data": {
      "text/plain": "<IPython.core.display.Latex object>",
      "text/latex": "Случай, когда $n=4$:"
     },
     "metadata": {},
     "output_type": "display_data"
    },
    {
     "data": {
      "text/plain": "<IPython.core.display.Markdown object>",
      "text/markdown": "<br>"
     },
     "metadata": {},
     "output_type": "display_data"
    },
    {
     "data": {
      "text/plain": "<IPython.core.display.Latex object>",
      "text/latex": "$L_{4}(-0.750)=0.656$;"
     },
     "metadata": {},
     "output_type": "display_data"
    },
    {
     "data": {
      "text/plain": "<IPython.core.display.Latex object>",
      "text/latex": "$L_{4}(-0.250)=0.931$;"
     },
     "metadata": {},
     "output_type": "display_data"
    },
    {
     "data": {
      "text/plain": "<IPython.core.display.Latex object>",
      "text/latex": "$L_{4}(0.250)=1.156$;"
     },
     "metadata": {},
     "output_type": "display_data"
    },
    {
     "data": {
      "text/plain": "<IPython.core.display.Latex object>",
      "text/latex": "$L_{4}(0.750)=1.331$;"
     },
     "metadata": {},
     "output_type": "display_data"
    },
    {
     "data": {
      "text/plain": "<IPython.core.display.Markdown object>",
      "text/markdown": "<br>"
     },
     "metadata": {},
     "output_type": "display_data"
    },
    {
     "data": {
      "text/plain": "<IPython.core.display.Latex object>",
      "text/latex": "Случай, когда $n=10$:"
     },
     "metadata": {},
     "output_type": "display_data"
    },
    {
     "data": {
      "text/plain": "<IPython.core.display.Markdown object>",
      "text/markdown": "<br>"
     },
     "metadata": {},
     "output_type": "display_data"
    },
    {
     "data": {
      "text/plain": "<IPython.core.display.Latex object>",
      "text/latex": "$L_{10}(-0.900)=0.555$;"
     },
     "metadata": {},
     "output_type": "display_data"
    },
    {
     "data": {
      "text/plain": "<IPython.core.display.Latex object>",
      "text/latex": "$L_{10}(-0.100)=1.019$;"
     },
     "metadata": {},
     "output_type": "display_data"
    },
    {
     "data": {
      "text/plain": "<IPython.core.display.Latex object>",
      "text/latex": "$L_{10}(0.100)=1.142$;"
     },
     "metadata": {},
     "output_type": "display_data"
    },
    {
     "data": {
      "text/plain": "<IPython.core.display.Latex object>",
      "text/latex": "$L_{10}(0.900)=1.666$;"
     },
     "metadata": {},
     "output_type": "display_data"
    },
    {
     "data": {
      "text/plain": "<IPython.core.display.Markdown object>",
      "text/markdown": "<br>"
     },
     "metadata": {},
     "output_type": "display_data"
    },
    {
     "data": {
      "text/plain": "<IPython.core.display.Latex object>",
      "text/latex": "Случай, когда $n=20$:"
     },
     "metadata": {},
     "output_type": "display_data"
    },
    {
     "data": {
      "text/plain": "<IPython.core.display.Markdown object>",
      "text/markdown": "<br>"
     },
     "metadata": {},
     "output_type": "display_data"
    },
    {
     "data": {
      "text/plain": "<IPython.core.display.Latex object>",
      "text/latex": "$L_{20}(-0.950)=0.526$;"
     },
     "metadata": {},
     "output_type": "display_data"
    },
    {
     "data": {
      "text/plain": "<IPython.core.display.Latex object>",
      "text/latex": "$L_{20}(-0.050)=1.018$;"
     },
     "metadata": {},
     "output_type": "display_data"
    },
    {
     "data": {
      "text/plain": "<IPython.core.display.Latex object>",
      "text/latex": "$L_{20}(0.050)=1.076$;"
     },
     "metadata": {},
     "output_type": "display_data"
    },
    {
     "data": {
      "text/plain": "<IPython.core.display.Latex object>",
      "text/latex": "$L_{20}(0.950)=1.622$;"
     },
     "metadata": {},
     "output_type": "display_data"
    },
    {
     "data": {
      "text/plain": "<IPython.core.display.Markdown object>",
      "text/markdown": "<br>"
     },
     "metadata": {},
     "output_type": "display_data"
    },
    {
     "data": {
      "text/plain": "<IPython.core.display.Latex object>",
      "text/latex": "Случай, когда $n=40$:"
     },
     "metadata": {},
     "output_type": "display_data"
    },
    {
     "data": {
      "text/plain": "<IPython.core.display.Markdown object>",
      "text/markdown": "<br>"
     },
     "metadata": {},
     "output_type": "display_data"
    },
    {
     "data": {
      "text/plain": "<IPython.core.display.Latex object>",
      "text/latex": "$L_{40}(-0.975)=0.513$;"
     },
     "metadata": {},
     "output_type": "display_data"
    },
    {
     "data": {
      "text/plain": "<IPython.core.display.Latex object>",
      "text/latex": "$L_{40}(-0.025)=1.007$;"
     },
     "metadata": {},
     "output_type": "display_data"
    },
    {
     "data": {
      "text/plain": "<IPython.core.display.Latex object>",
      "text/latex": "$L_{40}(0.025)=1.033$;"
     },
     "metadata": {},
     "output_type": "display_data"
    },
    {
     "data": {
      "text/plain": "<IPython.core.display.Latex object>",
      "text/latex": "$L_{40}(0.975)=1.527$;"
     },
     "metadata": {},
     "output_type": "display_data"
    },
    {
     "data": {
      "text/plain": "<IPython.core.display.Markdown object>",
      "text/markdown": "<br>"
     },
     "metadata": {},
     "output_type": "display_data"
    }
   ],
   "source": [
    "N = (4, 10, 20, 40)\n",
    "Arguments = ((-1 + 1 / n, - 1 / n, 1 / n, 1 - 1 / n) for n in N)\n",
    "\n",
    "\n",
    "def Aitken(x: float, nodes_x: list, nodes_f: list):\n",
    "    coeffs = []\n",
    "    n = len(nodes_f) - 1\n",
    "    for i in range(1, n + 2):\n",
    "        coeffs_n = []\n",
    "        for j in range(n + 2 - i):\n",
    "            if i == 1:\n",
    "                coeffs.append(nodes_f)\n",
    "                break\n",
    "            pol = pow(nodes_x[j + i - 1] - nodes_x[j], -1) * (coeffs[i - 2][j]\n",
    "            * (nodes_x[j + i - 1] - x) - coeffs[i - 2][j + 1] * (nodes_x[j] - x))\n",
    "            coeffs_n.append(round(pol, 3))\n",
    "            coeffs.append(coeffs_n)\n",
    "    return coeffs[-1][0]\n",
    "\n",
    "\n",
    "for X, n in zip(Arguments, N):\n",
    "    x_nodes, f_nodes = get_default_nodes(n)\n",
    "    answers = []\n",
    "    display(Latex(\"Случай, когда $n=%i$:\"%n), Markdown(\"<br>\"))\n",
    "    for x in X:\n",
    "        display(Latex(\"$L_{%i}(%.3f)=%.3f$;\"%(n, x, Aitken(x, x_nodes, f_nodes))))\n",
    "    display(Markdown(\"<br>\"))"
   ]
  },
  {
   "cell_type": "markdown",
   "source": [
    "## 2.Интерполяционный полином Лагранжа с узлами Чебышёва\n",
    "Схема Эйткена с узлами $x_k=\\cos\\dfrac{2k+1}{2(n+1)}\\pi,\\:k=0,\\ldots,n.$<br>"
   ],
   "metadata": {
    "collapsed": false
   }
  },
  {
   "cell_type": "code",
   "execution_count": 3,
   "outputs": [
    {
     "data": {
      "text/plain": "<IPython.core.display.Latex object>",
      "text/latex": "Случай, когда $n=4$:"
     },
     "metadata": {},
     "output_type": "display_data"
    },
    {
     "data": {
      "text/plain": "<IPython.core.display.Markdown object>",
      "text/markdown": "<br>"
     },
     "metadata": {},
     "output_type": "display_data"
    },
    {
     "data": {
      "text/plain": "<IPython.core.display.Latex object>",
      "text/latex": "$L_{4}(-0.750)=1.175$;"
     },
     "metadata": {},
     "output_type": "display_data"
    },
    {
     "data": {
      "text/plain": "<IPython.core.display.Latex object>",
      "text/latex": "$L_{4}(-0.250)=1.094$;"
     },
     "metadata": {},
     "output_type": "display_data"
    },
    {
     "data": {
      "text/plain": "<IPython.core.display.Latex object>",
      "text/latex": "$L_{4}(0.250)=0.921$;"
     },
     "metadata": {},
     "output_type": "display_data"
    },
    {
     "data": {
      "text/plain": "<IPython.core.display.Latex object>",
      "text/latex": "$L_{4}(0.750)=0.656$;"
     },
     "metadata": {},
     "output_type": "display_data"
    },
    {
     "data": {
      "text/plain": "<IPython.core.display.Markdown object>",
      "text/markdown": "<br>"
     },
     "metadata": {},
     "output_type": "display_data"
    },
    {
     "data": {
      "text/plain": "<IPython.core.display.Latex object>",
      "text/latex": "Случай, когда $n=10$:"
     },
     "metadata": {},
     "output_type": "display_data"
    },
    {
     "data": {
      "text/plain": "<IPython.core.display.Markdown object>",
      "text/markdown": "<br>"
     },
     "metadata": {},
     "output_type": "display_data"
    },
    {
     "data": {
      "text/plain": "<IPython.core.display.Latex object>",
      "text/latex": "$L_{10}(-0.900)=1.598$;"
     },
     "metadata": {},
     "output_type": "display_data"
    },
    {
     "data": {
      "text/plain": "<IPython.core.display.Latex object>",
      "text/latex": "$L_{10}(-0.100)=1.109$;"
     },
     "metadata": {},
     "output_type": "display_data"
    },
    {
     "data": {
      "text/plain": "<IPython.core.display.Latex object>",
      "text/latex": "$L_{10}(0.100)=0.993$;"
     },
     "metadata": {},
     "output_type": "display_data"
    },
    {
     "data": {
      "text/plain": "<IPython.core.display.Latex object>",
      "text/latex": "$L_{10}(0.900)=0.553$;"
     },
     "metadata": {},
     "output_type": "display_data"
    },
    {
     "data": {
      "text/plain": "<IPython.core.display.Markdown object>",
      "text/markdown": "<br>"
     },
     "metadata": {},
     "output_type": "display_data"
    },
    {
     "data": {
      "text/plain": "<IPython.core.display.Latex object>",
      "text/latex": "Случай, когда $n=20$:"
     },
     "metadata": {},
     "output_type": "display_data"
    },
    {
     "data": {
      "text/plain": "<IPython.core.display.Markdown object>",
      "text/markdown": "<br>"
     },
     "metadata": {},
     "output_type": "display_data"
    },
    {
     "data": {
      "text/plain": "<IPython.core.display.Latex object>",
      "text/latex": "$L_{20}(-0.950)=1.553$;"
     },
     "metadata": {},
     "output_type": "display_data"
    },
    {
     "data": {
      "text/plain": "<IPython.core.display.Latex object>",
      "text/latex": "$L_{20}(-0.050)=1.053$;"
     },
     "metadata": {},
     "output_type": "display_data"
    },
    {
     "data": {
      "text/plain": "<IPython.core.display.Latex object>",
      "text/latex": "$L_{20}(0.050)=0.999$;"
     },
     "metadata": {},
     "output_type": "display_data"
    },
    {
     "data": {
      "text/plain": "<IPython.core.display.Latex object>",
      "text/latex": "$L_{20}(0.950)=0.525$;"
     },
     "metadata": {},
     "output_type": "display_data"
    },
    {
     "data": {
      "text/plain": "<IPython.core.display.Markdown object>",
      "text/markdown": "<br>"
     },
     "metadata": {},
     "output_type": "display_data"
    },
    {
     "data": {
      "text/plain": "<IPython.core.display.Latex object>",
      "text/latex": "Случай, когда $n=40$:"
     },
     "metadata": {},
     "output_type": "display_data"
    },
    {
     "data": {
      "text/plain": "<IPython.core.display.Markdown object>",
      "text/markdown": "<br>"
     },
     "metadata": {},
     "output_type": "display_data"
    },
    {
     "data": {
      "text/plain": "<IPython.core.display.Latex object>",
      "text/latex": "$L_{40}(-0.975)=1.495$;"
     },
     "metadata": {},
     "output_type": "display_data"
    },
    {
     "data": {
      "text/plain": "<IPython.core.display.Latex object>",
      "text/latex": "$L_{40}(-0.025)=1.014$;"
     },
     "metadata": {},
     "output_type": "display_data"
    },
    {
     "data": {
      "text/plain": "<IPython.core.display.Latex object>",
      "text/latex": "$L_{40}(0.025)=0.989$;"
     },
     "metadata": {},
     "output_type": "display_data"
    },
    {
     "data": {
      "text/plain": "<IPython.core.display.Latex object>",
      "text/latex": "$L_{40}(0.975)=0.512$;"
     },
     "metadata": {},
     "output_type": "display_data"
    },
    {
     "data": {
      "text/plain": "<IPython.core.display.Markdown object>",
      "text/markdown": "<br>"
     },
     "metadata": {},
     "output_type": "display_data"
    }
   ],
   "source": [
    "N = (4, 10, 20, 40)\n",
    "Arguments = ((-1 + 1 / n, - 1 / n, 1 / n, 1 - 1 / n) for n in N)\n",
    "\n",
    "\n",
    "def get_chebyshev_nodes(n: int):\n",
    "    nodes = []\n",
    "    for k in range(n + 1):\n",
    "        node = cos((2 * k + 1) * pi / (2 * n + 1))\n",
    "        nodes.append(round(node, 4))\n",
    "    return nodes, [func_Runge(x) for x in nodes]\n",
    "\n",
    "\n",
    "for X, n in zip(Arguments, N):\n",
    "    x_nodes, f_nodes = get_chebyshev_nodes(n)\n",
    "    answers = []\n",
    "    display(Latex(\"Случай, когда $n=%i$:\"%n), Markdown(\"<br>\"))\n",
    "    for x in X:\n",
    "        display(Latex(\"$L_{%i}(%.3f)=%.3f$;\"%(n, x, Aitken(x, x_nodes, f_nodes))))\n",
    "    display(Markdown(\"<br>\"))\n"
   ],
   "metadata": {
    "collapsed": false,
    "pycharm": {
     "name": "#%%\n"
    }
   }
  },
  {
   "cell_type": "markdown",
   "metadata": {
    "pycharm": {
     "name": "#%% md\n"
    }
   },
   "source": [
    "## 3.Сплайн $S_{11}(f,x)$"
   ]
  },
  {
   "cell_type": "code",
   "execution_count": 4,
   "outputs": [
    {
     "data": {
      "text/plain": "<IPython.core.display.Latex object>",
      "text/latex": "Случай, когда $n=4$:"
     },
     "metadata": {},
     "output_type": "display_data"
    },
    {
     "data": {
      "text/plain": "<IPython.core.display.Markdown object>",
      "text/markdown": "<br>"
     },
     "metadata": {},
     "output_type": "display_data"
    },
    {
     "data": {
      "text/plain": "<IPython.core.display.Latex object>",
      "text/latex": "$S_{11}(f,-0.750)=0.650$;"
     },
     "metadata": {},
     "output_type": "display_data"
    },
    {
     "data": {
      "text/plain": "<IPython.core.display.Latex object>",
      "text/latex": "$S_{11}(f,-0.250)=0.900$;"
     },
     "metadata": {},
     "output_type": "display_data"
    },
    {
     "data": {
      "text/plain": "<IPython.core.display.Latex object>",
      "text/latex": "$S_{11}(f,0.250)=0.900$;"
     },
     "metadata": {},
     "output_type": "display_data"
    },
    {
     "data": {
      "text/plain": "<IPython.core.display.Latex object>",
      "text/latex": "$S_{11}(f,0.750)=0.650$;"
     },
     "metadata": {},
     "output_type": "display_data"
    },
    {
     "data": {
      "text/plain": "<IPython.core.display.Markdown object>",
      "text/markdown": "<br>"
     },
     "metadata": {},
     "output_type": "display_data"
    },
    {
     "data": {
      "text/plain": "<IPython.core.display.Latex object>",
      "text/latex": "Случай, когда $n=10$:"
     },
     "metadata": {},
     "output_type": "display_data"
    },
    {
     "data": {
      "text/plain": "<IPython.core.display.Markdown object>",
      "text/markdown": "<br>"
     },
     "metadata": {},
     "output_type": "display_data"
    },
    {
     "data": {
      "text/plain": "<IPython.core.display.Latex object>",
      "text/latex": "$S_{11}(f,-0.900)=0.555$;"
     },
     "metadata": {},
     "output_type": "display_data"
    },
    {
     "data": {
      "text/plain": "<IPython.core.display.Latex object>",
      "text/latex": "$S_{11}(f,-0.100)=0.981$;"
     },
     "metadata": {},
     "output_type": "display_data"
    },
    {
     "data": {
      "text/plain": "<IPython.core.display.Latex object>",
      "text/latex": "$S_{11}(f,0.100)=0.981$;"
     },
     "metadata": {},
     "output_type": "display_data"
    },
    {
     "data": {
      "text/plain": "<IPython.core.display.Latex object>",
      "text/latex": "$S_{11}(f,0.900)=0.555$;"
     },
     "metadata": {},
     "output_type": "display_data"
    },
    {
     "data": {
      "text/plain": "<IPython.core.display.Markdown object>",
      "text/markdown": "<br>"
     },
     "metadata": {},
     "output_type": "display_data"
    },
    {
     "data": {
      "text/plain": "<IPython.core.display.Latex object>",
      "text/latex": "Случай, когда $n=20$:"
     },
     "metadata": {},
     "output_type": "display_data"
    },
    {
     "data": {
      "text/plain": "<IPython.core.display.Markdown object>",
      "text/markdown": "<br>"
     },
     "metadata": {},
     "output_type": "display_data"
    },
    {
     "data": {
      "text/plain": "<IPython.core.display.Latex object>",
      "text/latex": "$S_{11}(f,-0.950)=0.526$;"
     },
     "metadata": {},
     "output_type": "display_data"
    },
    {
     "data": {
      "text/plain": "<IPython.core.display.Latex object>",
      "text/latex": "$S_{11}(f,-0.050)=0.995$;"
     },
     "metadata": {},
     "output_type": "display_data"
    },
    {
     "data": {
      "text/plain": "<IPython.core.display.Latex object>",
      "text/latex": "$S_{11}(f,0.050)=0.995$;"
     },
     "metadata": {},
     "output_type": "display_data"
    },
    {
     "data": {
      "text/plain": "<IPython.core.display.Latex object>",
      "text/latex": "$S_{11}(f,0.950)=0.526$;"
     },
     "metadata": {},
     "output_type": "display_data"
    },
    {
     "data": {
      "text/plain": "<IPython.core.display.Markdown object>",
      "text/markdown": "<br>"
     },
     "metadata": {},
     "output_type": "display_data"
    },
    {
     "data": {
      "text/plain": "<IPython.core.display.Latex object>",
      "text/latex": "Случай, когда $n=40$:"
     },
     "metadata": {},
     "output_type": "display_data"
    },
    {
     "data": {
      "text/plain": "<IPython.core.display.Markdown object>",
      "text/markdown": "<br>"
     },
     "metadata": {},
     "output_type": "display_data"
    },
    {
     "data": {
      "text/plain": "<IPython.core.display.Latex object>",
      "text/latex": "$S_{11}(f,-0.975)=0.513$;"
     },
     "metadata": {},
     "output_type": "display_data"
    },
    {
     "data": {
      "text/plain": "<IPython.core.display.Latex object>",
      "text/latex": "$S_{11}(f,-0.025)=0.999$;"
     },
     "metadata": {},
     "output_type": "display_data"
    },
    {
     "data": {
      "text/plain": "<IPython.core.display.Latex object>",
      "text/latex": "$S_{11}(f,0.025)=0.999$;"
     },
     "metadata": {},
     "output_type": "display_data"
    },
    {
     "data": {
      "text/plain": "<IPython.core.display.Latex object>",
      "text/latex": "$S_{11}(f,0.975)=0.513$;"
     },
     "metadata": {},
     "output_type": "display_data"
    },
    {
     "data": {
      "text/plain": "<IPython.core.display.Markdown object>",
      "text/markdown": "<br>"
     },
     "metadata": {},
     "output_type": "display_data"
    }
   ],
   "source": [
    "def spline11(x: float, nodes_x: list, nodes_f: list):\n",
    "    l = 0\n",
    "    for i in range(len(nodes_x) - 1):\n",
    "        if nodes_x[i] <= x <= nodes_x[i + 1]:\n",
    "            l = i\n",
    "            break\n",
    "    h = nodes_x[l + 1] - nodes_x[l]\n",
    "    return nodes_f[i] + (x - nodes_x[i]) * (nodes_f[i + 1] - nodes_f[i]) / h\n",
    "\n",
    "\n",
    "N = (4, 10, 20, 40)\n",
    "Arguments = ((-1 + 1 / n, - 1 / n, 1 / n, 1 - 1 / n) for n in N)\n",
    "\n",
    "for X, n in zip(Arguments, N):\n",
    "    x_nodes, f_nodes = get_default_nodes(n)\n",
    "    answers = []\n",
    "    display(Latex(\"Случай, когда $n=%i$:\"%n), Markdown(\"<br>\"))\n",
    "    for x in X:\n",
    "        display(Latex(\"$S_{11}(f,%.3f)=%.3f$;\"%(x, spline11(x, x_nodes, f_nodes))))\n",
    "    display(Markdown(\"<br>\"))"
   ],
   "metadata": {
    "collapsed": false,
    "pycharm": {
     "name": "#%%\n"
    }
   }
  },
  {
   "cell_type": "markdown",
   "source": [
    "## 4.Сплайн $S_{32}(f,x)$"
   ],
   "metadata": {
    "collapsed": false
   }
  },
  {
   "cell_type": "code",
   "execution_count": 5,
   "outputs": [
    {
     "data": {
      "text/plain": "<IPython.core.display.Latex object>",
      "text/latex": "Случай, когда $n=4$:"
     },
     "metadata": {},
     "output_type": "display_data"
    },
    {
     "data": {
      "text/plain": "<IPython.core.display.Markdown object>",
      "text/markdown": "<br>"
     },
     "metadata": {},
     "output_type": "display_data"
    },
    {
     "data": {
      "text/plain": "<IPython.core.display.Latex object>",
      "text/latex": "$S_{32}(f,-0.750)=0.633$;"
     },
     "metadata": {},
     "output_type": "display_data"
    },
    {
     "data": {
      "text/plain": "<IPython.core.display.Latex object>",
      "text/latex": "$S_{32}(f,-0.250)=0.962$;"
     },
     "metadata": {},
     "output_type": "display_data"
    },
    {
     "data": {
      "text/plain": "<IPython.core.display.Latex object>",
      "text/latex": "$S_{32}(f,0.250)=1.107$;"
     },
     "metadata": {},
     "output_type": "display_data"
    },
    {
     "data": {
      "text/plain": "<IPython.core.display.Latex object>",
      "text/latex": "$S_{32}(f,0.750)=0.640$;"
     },
     "metadata": {},
     "output_type": "display_data"
    },
    {
     "data": {
      "text/plain": "<IPython.core.display.Markdown object>",
      "text/markdown": "<br>"
     },
     "metadata": {},
     "output_type": "display_data"
    },
    {
     "data": {
      "text/plain": "<IPython.core.display.Latex object>",
      "text/latex": "Случай, когда $n=10$:"
     },
     "metadata": {},
     "output_type": "display_data"
    },
    {
     "data": {
      "text/plain": "<IPython.core.display.Markdown object>",
      "text/markdown": "<br>"
     },
     "metadata": {},
     "output_type": "display_data"
    },
    {
     "data": {
      "text/plain": "<IPython.core.display.Latex object>",
      "text/latex": "$S_{32}(f,-0.900)=0.551$;"
     },
     "metadata": {},
     "output_type": "display_data"
    },
    {
     "data": {
      "text/plain": "<IPython.core.display.Latex object>",
      "text/latex": "$S_{32}(f,-0.100)=1.011$;"
     },
     "metadata": {},
     "output_type": "display_data"
    },
    {
     "data": {
      "text/plain": "<IPython.core.display.Latex object>",
      "text/latex": "$S_{32}(f,0.100)=1.019$;"
     },
     "metadata": {},
     "output_type": "display_data"
    },
    {
     "data": {
      "text/plain": "<IPython.core.display.Latex object>",
      "text/latex": "$S_{32}(f,0.900)=0.551$;"
     },
     "metadata": {},
     "output_type": "display_data"
    },
    {
     "data": {
      "text/plain": "<IPython.core.display.Markdown object>",
      "text/markdown": "<br>"
     },
     "metadata": {},
     "output_type": "display_data"
    },
    {
     "data": {
      "text/plain": "<IPython.core.display.Latex object>",
      "text/latex": "Случай, когда $n=20$:"
     },
     "metadata": {},
     "output_type": "display_data"
    },
    {
     "data": {
      "text/plain": "<IPython.core.display.Markdown object>",
      "text/markdown": "<br>"
     },
     "metadata": {},
     "output_type": "display_data"
    },
    {
     "data": {
      "text/plain": "<IPython.core.display.Latex object>",
      "text/latex": "$S_{32}(f,-0.950)=0.525$;"
     },
     "metadata": {},
     "output_type": "display_data"
    },
    {
     "data": {
      "text/plain": "<IPython.core.display.Latex object>",
      "text/latex": "$S_{32}(f,-0.050)=1.004$;"
     },
     "metadata": {},
     "output_type": "display_data"
    },
    {
     "data": {
      "text/plain": "<IPython.core.display.Latex object>",
      "text/latex": "$S_{32}(f,0.050)=1.005$;"
     },
     "metadata": {},
     "output_type": "display_data"
    },
    {
     "data": {
      "text/plain": "<IPython.core.display.Latex object>",
      "text/latex": "$S_{32}(f,0.950)=0.525$;"
     },
     "metadata": {},
     "output_type": "display_data"
    },
    {
     "data": {
      "text/plain": "<IPython.core.display.Markdown object>",
      "text/markdown": "<br>"
     },
     "metadata": {},
     "output_type": "display_data"
    },
    {
     "data": {
      "text/plain": "<IPython.core.display.Latex object>",
      "text/latex": "Случай, когда $n=40$:"
     },
     "metadata": {},
     "output_type": "display_data"
    },
    {
     "data": {
      "text/plain": "<IPython.core.display.Markdown object>",
      "text/markdown": "<br>"
     },
     "metadata": {},
     "output_type": "display_data"
    },
    {
     "data": {
      "text/plain": "<IPython.core.display.Latex object>",
      "text/latex": "$S_{32}(f,-0.975)=0.513$;"
     },
     "metadata": {},
     "output_type": "display_data"
    },
    {
     "data": {
      "text/plain": "<IPython.core.display.Latex object>",
      "text/latex": "$S_{32}(f,-0.025)=1.002$;"
     },
     "metadata": {},
     "output_type": "display_data"
    },
    {
     "data": {
      "text/plain": "<IPython.core.display.Latex object>",
      "text/latex": "$S_{32}(f,0.025)=1.001$;"
     },
     "metadata": {},
     "output_type": "display_data"
    },
    {
     "data": {
      "text/plain": "<IPython.core.display.Latex object>",
      "text/latex": "$S_{32}(f,0.975)=0.513$;"
     },
     "metadata": {},
     "output_type": "display_data"
    },
    {
     "data": {
      "text/plain": "<IPython.core.display.Markdown object>",
      "text/markdown": "<br>"
     },
     "metadata": {},
     "output_type": "display_data"
    }
   ],
   "source": [
    "def df(x):\n",
    "    return -2 * x / pow(1 + x ** 2, 2)\n",
    "\n",
    "def spline32(x: float, nodes_x: list, nodes_f: list):\n",
    "    l = 0\n",
    "    for i in range(len(nodes_x) - 1):\n",
    "        if nodes_x[i] <= x <= nodes_x[i + 1]:\n",
    "            l = i\n",
    "            break\n",
    "    h = nodes_x[l + 1] - nodes_x[l]\n",
    "    t = (x - nodes_x[i]) / h\n",
    "    A = -2 * (nodes_f[l + 1] - nodes_f[l]) / h + (df(nodes_x[l]) + df(nodes_x[l + 1]))\n",
    "    B = -A + (nodes_f[l + 1] - nodes_f[l]) / h - df(nodes_x[l])\n",
    "    return nodes_f[l] + (x - nodes_x[l]) * (df(nodes_x[l] + t * (B + t * A)))\n",
    "\n",
    "\n",
    "N = (4, 10, 20, 40)\n",
    "Arguments = ((-1 + 1 / n, - 1 / n, 1 / n, 1 - 1 / n) for n in N)\n",
    "\n",
    "for X, n in zip(Arguments, N):\n",
    "    x_nodes, f_nodes = get_default_nodes(n)\n",
    "    answers = []\n",
    "    display(Latex(\"Случай, когда $n=%i$:\"%n), Markdown(\"<br>\"))\n",
    "    for x in X:\n",
    "        display(Latex(\"$S_{32}(f,%.3f)=%.3f$;\"%(x, spline32(x, x_nodes, f_nodes))))\n",
    "    display(Markdown(\"<br>\"))"
   ],
   "metadata": {
    "collapsed": false,
    "pycharm": {
     "name": "#%%\n"
    }
   }
  }
 ],
 "metadata": {
  "kernelspec": {
   "display_name": "Python 3",
   "language": "python",
   "name": "python3"
  },
  "language_info": {
   "codemirror_mode": {
    "name": "ipython",
    "version": 3
   },
   "file_extension": ".py",
   "mimetype": "text/x-python",
   "name": "python",
   "nbconvert_exporter": "python",
   "pygments_lexer": "ipython3",
   "version": "3.8.6"
  }
 },
 "nbformat": 4,
 "nbformat_minor": 1
}