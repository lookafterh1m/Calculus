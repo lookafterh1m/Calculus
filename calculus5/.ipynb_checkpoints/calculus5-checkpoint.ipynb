{
 "cells": [
  {
   "cell_type": "markdown",
   "metadata": {},
   "source": [
    "# Интерполирование сплайнами\n",
    "Пусть $f(x)=\\dfrac{1}{1+x^2},\\:x\\in\\left[-1;1\\right]$.<br>\n",
    "Вычислить значения функции для $x=-1+\\dfrac{h}{2},\\:-\\dfrac{h}{2},\\:\\dfrac{h}{2}$,\n",
    "$\\:1-\\dfrac{h}{2},\\:\\left(h=\\dfrac{2}{n},\\:n=4,\\:10, \\:20,\\:40\\right)$, применяя\n",
    "различные способы интерполирования:<br>\n",
    "$1.$ Интерполяционный полином Лагранжа (схема Эйткена) с узлами\n",
    "$x_k=-1+kh,\\:k=0,\\ldots,n$.<br>\n",
    "$2.$ Интерполяционный полином Лагранжа (схема Эйткена) с узлами\n",
    "$x_k=\\cos\\dfrac{2k+1}{2(n+1)}\\pi,\\:k=0,\\ldots,n).$<br>\n",
    "$3.$ Сплайн $S_{11}(f,x)$ с узлами $x_k=-1+kh,\\:k=0,\\ldots,n$.<br>\n",
    "$4.$ Сплайн $S_{32}(f,x)$ с узлами $x_k=-1+kh,\\:k=0,\\ldots,n$.\n",
    "\n",
    "## 1.Интерполяционный полином Лагранжа\n",
    "Схема Эйткена с узлами $x_k=-1+kh,\\:k=0,\\ldots,n$."
   ]
  },
  {
   "cell_type": "code",
   "execution_count": null,
   "metadata": {
    "pycharm": {
     "name": "#%%\n"
    }
   },
   "outputs": [
    {
     "name": "stdout",
     "output_type": "stream",
     "text": [
      "4 ([-1.0, -0.5, 0.0, 0.5, 1.0], [0.5, 0.8, 1.0, 0.8, 0.5])\n",
      "0.6203125000000002\n",
      "0.9453125\n",
      "0.9453125\n",
      "0.6203125000000002\n",
      "10 ([-1.0, -0.8, -0.6, -0.4, -0.2, 0.0, 0.2, 0.4, 0.6, 0.8, 1.0], [0.5, 0.61, 0.735, 0.862, 0.962, 1.0, 0.962, 0.862, 0.735, 0.61, 0.5])\n",
      "0.5500830154418944\n",
      "0.9902723464965828\n",
      "0.9902723464965828\n",
      "0.5500830154418944\n",
      "20 ([-1.0, -0.9, -0.8, -0.7, -0.6, -0.5, -0.4, -0.3, -0.2, -0.1, 0.0, 0.1, 0.2, 0.3, 0.4, 0.5, 0.6, 0.7, 0.8, 0.9, 1.0], [0.5, 0.552, 0.61, 0.671, 0.735, 0.8, 0.862, 0.917, 0.962, 0.99, 1.0, 0.99, 0.962, 0.917, 0.862, 0.8, 0.735, 0.671, 0.61, 0.552, 0.5])\n",
      "-0.9229652314336867\n",
      "0.9974333810043396\n",
      "0.9974333810043396\n",
      "-0.9229652314336867\n",
      "40 ([-1.0, -0.95, -0.9, -0.85, -0.8, -0.75, -0.7, -0.65, -0.6, -0.55, -0.5, -0.45, -0.4, -0.35, -0.3, -0.25, -0.2, -0.15, -0.1, -0.05, 0.0, 0.05, 0.1, 0.15, 0.2, 0.25, 0.3, 0.35, 0.4, 0.45, 0.5, 0.55, 0.6, 0.65, 0.7, 0.75, 0.8, 0.85, 0.9, 0.95, 1.0], [0.5, 0.526, 0.552, 0.581, 0.61, 0.64, 0.671, 0.703, 0.735, 0.768, 0.8, 0.832, 0.862, 0.891, 0.917, 0.941, 0.962, 0.978, 0.99, 0.998, 1.0, 0.998, 0.99, 0.978, 0.962, 0.941, 0.917, 0.891, 0.862, 0.832, 0.8, 0.768, 0.735, 0.703, 0.671, 0.64, 0.61, 0.581, 0.552, 0.526, 0.5])\n"
     ]
    }
   ],
   "source": [
    "from math import cos, pi\n",
    "import matplotlib.pyplot as plt\n",
    "import numpy as np\n",
    "from IPython.display import display, Latex\n",
    "import sys\n",
    "\n",
    "\n",
    "def func_Runge(x: float):\n",
    "    return round((1 + x ** 2) ** -1, 3)\n",
    "\n",
    "\n",
    "def get_nodes(n: int):\n",
    "    h = 2 / n\n",
    "    nodes_x = [round(-1 + k * h, 3) for k in range(n + 1)]\n",
    "    nodes_f = [func_Runge(x) for x in nodes_x]\n",
    "    return nodes_x, nodes_f\n",
    "\n",
    "\n",
    "def get_chebyshev_nodes(n: int):\n",
    "    nodes = []\n",
    "    for k in range(n + 1):\n",
    "        node = cos((2 * k + 1) * pi / (2 * n + 1))\n",
    "        nodes.append(round(node, 4))\n",
    "    return nodes, [func_Runge(x) for x in nodes]\n",
    "\n",
    "#sys.setrecursionlimit(100)\n",
    "N = (4, 10, 20, 40)\n",
    "Arguments = ((-1 + 1 / n, - 1 / n, 1 / n, 1 - 1 / n) for n in N)\n",
    "\n",
    "\n",
    "def scheme_Aitken(x: float, nodes_x: list, nodes_f: list):\n",
    "    if len(nodes_x) == 2:\n",
    "        return ((nodes_x[1] - nodes_x[0]) ** -1) * (nodes_f[0] * (nodes_x[1] - x) - (nodes_f[1] * (nodes_x[0] - x)))\n",
    "    return ((nodes_x[-1] - nodes_x[0]) ** -1) * ((nodes_x[-1] - x) * scheme_Aitken(x, nodes_x[:-1], nodes_f[:-1]) -\n",
    "                                                 (nodes_x[0] - x) * scheme_Aitken(x, nodes_x[1:],nodes_f[1:]))\n",
    "\n",
    "\n",
    "list_answers = []\n",
    "for X, n in zip(Arguments, N):\n",
    "    x_nodes, f_nodes = get_nodes(n)\n",
    "    print(n, get_nodes(n))\n",
    "    answers = []\n",
    "    for x in X:\n",
    "        print(scheme_Aitken(x, x_nodes, f_nodes))\n",
    "\n",
    "print(list_answers)"
   ]
  },
  {
   "cell_type": "code",
   "execution_count": null,
   "metadata": {},
   "outputs": [],
   "source": []
  }
 ],
 "metadata": {
  "kernelspec": {
   "display_name": "Python 3",
   "language": "python",
   "name": "python3"
  },
  "language_info": {
   "codemirror_mode": {
    "name": "ipython",
    "version": 3
   },
   "file_extension": ".py",
   "mimetype": "text/x-python",
   "name": "python",
   "nbconvert_exporter": "python",
   "pygments_lexer": "ipython3",
   "version": "3.8.6"
  }
 },
 "nbformat": 4,
 "nbformat_minor": 1
}
