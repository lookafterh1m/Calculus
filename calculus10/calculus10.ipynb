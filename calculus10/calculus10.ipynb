{
 "cells": [
  {
   "source": [
    "<h1>Метод квадратного корня</h1>\n",
    "\n",
    "Рассмотрим систему ЛАУ: $Ax=f$, $\\det (A)\\neq0$.<br>\n",
    "$a_{ij}=\\frac{1}{i+j+11},$ $i,j=1,\\ldots,n;$ $n\\in\\{4,6,8,10,12\\}$,\n",
    "$f = a + (b-a)\\cdot random,$ $a,b\\:-$ произвольные числа $a<b$.\n",
    "\n",
    "Положим $a = 0,\\:b = 1.$\n",
    "\n",
    "\n",
    "Зададим матрицу $A$ и вектор $f$:"
   ],
   "cell_type": "markdown",
   "metadata": {
    "collapsed": false,
    "pycharm": {
     "name": "#%% md\n"
    }
   }
  },
  {
   "source": [
    "import numpy as np\n",
    "from random import random, seed\n",
    "\n",
    "\n",
    "def get_matrix(n: int):\n",
    "    seed()\n",
    "    return np.array([[1 / (i + j + 11) for i in range(1, n + 1)] for j in range(1, n + 1)])\n",
    "\n",
    "\n",
    "def get_f(n: int, a = 0, b = 1):\n",
    "    return np.array([a + b * (b - a) * random() for _ in range(n)])"
   ],
   "cell_type": "code",
   "metadata": {
    "collapsed": true
   },
   "execution_count": 1,
   "outputs": []
  },
  {
   "cell_type": "markdown",
   "source": [
    "Функция ``sqroot_method($A$)`` выполняет разложение матрицы $A$: она возвращает матрицу $A$ и матрицу $D$.\n",
    "\n",
    "$A=S^tDS$, где $D\\:-$ диагональная матрица, на диагонали которой находятся только числа из\n",
    "множества $\\{−1,\\:1\\}$.\n",
    "\n",
    "<b>Расчетные формулы разложения:</b><br>\n",
    "диагональные элементы:<br>\n",
    "$d_{ii}=sign\\left(a_{ii}-\\sum\\limits_{k=1}^{i-1}|s_{ki}|^2d_{kk}\\right);$<br>\n",
    "$s_{ii}=\\sqrt{\\left|a_{ii}-\\sum\\limits_{k=1}^{i-1}|s_{ki}|^2d_{kk}\\right|};$<br>\n",
    "при $i<j:$<br>\n",
    "$s_{ij}=\\dfrac{a_{ij}-\\sum\\limits_{k=1}^{i-1}s_{ik}d_{kk}s_{kj}}{s_{ii}d_{ii}}.$"
   ],
   "metadata": {
    "collapsed": false
   }
  },
  {
   "cell_type": "code",
   "execution_count": 2,
   "outputs": [],
   "source": [
    "def sqroot_method(m: np.ndarray):\n",
    "    m = m.copy()\n",
    "    s = np.zeros_like(m)\n",
    "    d = np.zeros(len(m))\n",
    "    s[0, 0] = np.sqrt(np.abs(m[0, 0]))\n",
    "    d[0] = np.sign(m[0, 0])\n",
    "\n",
    "    for i in range(len(m)):\n",
    "        w = m[i, i]\n",
    "        for k in range(i):\n",
    "            w -= d[k] * s[k, i] ** 2\n",
    "        d[i] = np.sign(w)\n",
    "        s[i, i] = np.sqrt(np.abs(w))\n",
    "\n",
    "        for j in range(i, len(m)):\n",
    "            w = m[i, j]\n",
    "            for k in range(i):\n",
    "                w -= d[k] * s[k, i] * s[k, j]\n",
    "            s[i, j] = w / (d[i] * s[i, i])\n",
    "    return s, d"
   ],
   "metadata": {
    "collapsed": false,
    "pycharm": {
     "name": "#%%\n"
    }
   }
  },
  {
   "cell_type": "markdown",
   "source": [
    "Функция``solve(A, f)``решает ЛАУ $Ax=f$ с помощью разложения матрицы $A=S^tDS$ последовательным\n",
    "решением двух систем ЛАУ с треугольными матрицами: $S^tDy=f$, $Sx=y$.\n",
    "\n",
    "Вектор $y$ находится следующим образом:\n",
    "\n",
    "$\\begin{cases}y_1=\\dfrac{f_1}{s_{11}d_{11}},\\\\ y_i=\\dfrac{f_i-\\sum\\limits_{j=1}^{i-1}s_{ji}y_jd_{jj}}{s_{ii}d_{ii}},\n",
    "\\:i=2,\\ldots,n.\\end{cases}$\n",
    "\n",
    "Затем искомый вектор $x:$\n",
    "\n",
    "$\\begin{cases}x_n=\\dfrac{y_n}{s_{nn}},\\\\ x_i=\\dfrac{y_i-\\sum\\limits_{j=i+1}^ns_{ij}x_j}{s_{ii}},\n",
    "\\:i=n-1,\\ldots,1.\\end{cases}$\n"
   ],
   "metadata": {
    "collapsed": false
   }
  },
  {
   "cell_type": "code",
   "execution_count": 3,
   "outputs": [],
   "source": [
    "def solve(m: np.ndarray, v: np.ndarray):\n",
    "    m = m.copy()\n",
    "    v = v.copy()\n",
    "    s, d = sqroot_method(m)\n",
    "\n",
    "    y = np.zeros_like(v)\n",
    "    for i in range(len(m)):\n",
    "        w = v[i]\n",
    "\n",
    "        for j in range(i):\n",
    "            w -= s[j, i] * y[j] * d[j]\n",
    "        y[i] = w / (s[i, i] * d[i])\n",
    "\n",
    "    x = np.zeros_like(v)\n",
    "    for i in range(len(m) - 1, -1, -1):\n",
    "        w = y[i]\n",
    "\n",
    "        for j in range(i + 1, len(m)):\n",
    "            w -= s[i, j] * x[j]\n",
    "        x[i] = w / s[i, i]\n",
    "    return x"
   ],
   "metadata": {
    "collapsed": false,
    "pycharm": {
     "name": "#%%\n"
    }
   }
  },
  {
   "cell_type": "markdown",
   "source": [
    "Теперь, имея все необходимые функции, можем решить ЛАУ. Для каждого $n$\n",
    "будем решать систему с помощью написанной и встроенной функции. Также найдём невязку $||r|| = ||f-Ax||$."
   ],
   "metadata": {
    "collapsed": false
   }
  },
  {
   "cell_type": "code",
   "execution_count": 4,
   "outputs": [
    {
     "name": "stdout",
     "output_type": "stream",
     "text": [
      "\n",
      "n = 4\n",
      "\n",
      "Матрица A:\n",
      "[[0.07692308 0.07142857 0.06666667 0.0625    ]\n",
      " [0.07142857 0.06666667 0.0625     0.05882353]\n",
      " [0.06666667 0.0625     0.05882353 0.05555556]\n",
      " [0.0625     0.05882353 0.05555556 0.05263158]]\n",
      "\n",
      "Вектор f:\n",
      "[0.35919298 0.70146266 0.85106601 0.93819692]\n",
      "\n",
      "Невязка: 1.8706628157095723e-11\n",
      "\n",
      "Относительная норма невязки: 1.2539271909213618e-11\n",
      "\n",
      "Решение с помощью написанной функции:\n",
      "[ -404323.76370784  1463518.67939467 -1747145.63779163   688664.2319215 ]\n",
      "\n",
      "Решение с помощью встроенной функции:\n",
      "[ -404323.76335635  1463518.67810433 -1747145.63623275   688664.23130076]\n",
      "\n",
      "\n",
      "n = 6\n",
      "\n",
      "Матрица A:\n",
      "[[0.07692308 0.07142857 0.06666667 0.0625     0.05882353 0.05555556]\n",
      " [0.07142857 0.06666667 0.0625     0.05882353 0.05555556 0.05263158]\n",
      " [0.06666667 0.0625     0.05882353 0.05555556 0.05263158 0.05      ]\n",
      " [0.0625     0.05882353 0.05555556 0.05263158 0.05       0.04761905]\n",
      " [0.05882353 0.05555556 0.05263158 0.05       0.04761905 0.04545455]\n",
      " [0.05555556 0.05263158 0.05       0.04761905 0.04545455 0.04347826]]\n",
      "\n",
      "Вектор f:\n",
      "[0.82442021 0.11785336 0.28344677 0.10440463 0.45363743 0.80193556]\n",
      "\n",
      "Невязка: 3.191949311879621e-06\n",
      "\n",
      "Относительная норма невязки: 2.497304035460058e-06\n",
      "\n",
      "Решение с помощью написанной функции:\n",
      "[ 6.19941763e+09 -4.25011738e+10  1.14359705e+11 -1.51293669e+11\n",
      "  9.85900326e+10 -2.53551568e+10]\n",
      "\n",
      "Решение с помощью встроенной функции:\n",
      "[ 6.19943585e+09 -4.25012996e+10  1.14360046e+11 -1.51294123e+11\n",
      "  9.85903295e+10 -2.53552335e+10]\n",
      "\n",
      "\n",
      "n = 8\n",
      "\n",
      "Матрица A:\n",
      "[[0.07692308 0.07142857 0.06666667 0.0625     0.05882353 0.05555556\n",
      "  0.05263158 0.05      ]\n",
      " [0.07142857 0.06666667 0.0625     0.05882353 0.05555556 0.05263158\n",
      "  0.05       0.04761905]\n",
      " [0.06666667 0.0625     0.05882353 0.05555556 0.05263158 0.05\n",
      "  0.04761905 0.04545455]\n",
      " [0.0625     0.05882353 0.05555556 0.05263158 0.05       0.04761905\n",
      "  0.04545455 0.04347826]\n",
      " [0.05882353 0.05555556 0.05263158 0.05       0.04761905 0.04545455\n",
      "  0.04347826 0.04166667]\n",
      " [0.05555556 0.05263158 0.05       0.04761905 0.04545455 0.04347826\n",
      "  0.04166667 0.04      ]\n",
      " [0.05263158 0.05       0.04761905 0.04545455 0.04347826 0.04166667\n",
      "  0.04       0.03846154]\n",
      " [0.05       0.04761905 0.04545455 0.04347826 0.04166667 0.04\n",
      "  0.03846154 0.03703704]]\n",
      "\n",
      "Вектор f:\n",
      "[0.20391486 0.41304591 0.75854809 0.95053214 0.3754992  0.99045865\n",
      " 0.17482492 0.104678  ]\n",
      "\n",
      "Невязка: 0.030494323601683547\n",
      "\n",
      "Относительная норма невязки: 0.01804864280962886\n",
      "\n",
      "Решение с помощью написанной функции:\n",
      "[-1.07190413e+13  1.14634957e+14 -5.12628001e+14  1.24597678e+15\n",
      " -1.78182821e+15  1.50217216e+15 -6.92428448e+14  1.34819983e+14]\n",
      "\n",
      "Решение с помощью встроенной функции:\n",
      "[-1.11447149e+13  1.19178886e+14 -5.32914414e+14  1.29521250e+15\n",
      " -1.85214679e+15  1.56138483e+15 -7.19693665e+14  1.40123567e+14]\n",
      "\n",
      "\n",
      "n = 10\n",
      "\n",
      "Матрица A:\n",
      "[[0.07692308 0.07142857 0.06666667 0.0625     0.05882353 0.05555556\n",
      "  0.05263158 0.05       0.04761905 0.04545455]\n",
      " [0.07142857 0.06666667 0.0625     0.05882353 0.05555556 0.05263158\n",
      "  0.05       0.04761905 0.04545455 0.04347826]\n",
      " [0.06666667 0.0625     0.05882353 0.05555556 0.05263158 0.05\n",
      "  0.04761905 0.04545455 0.04347826 0.04166667]\n",
      " [0.0625     0.05882353 0.05555556 0.05263158 0.05       0.04761905\n",
      "  0.04545455 0.04347826 0.04166667 0.04      ]\n",
      " [0.05882353 0.05555556 0.05263158 0.05       0.04761905 0.04545455\n",
      "  0.04347826 0.04166667 0.04       0.03846154]\n",
      " [0.05555556 0.05263158 0.05       0.04761905 0.04545455 0.04347826\n",
      "  0.04166667 0.04       0.03846154 0.03703704]\n",
      " [0.05263158 0.05       0.04761905 0.04545455 0.04347826 0.04166667\n",
      "  0.04       0.03846154 0.03703704 0.03571429]\n",
      " [0.05       0.04761905 0.04545455 0.04347826 0.04166667 0.04\n",
      "  0.03846154 0.03703704 0.03571429 0.03448276]\n",
      " [0.04761905 0.04545455 0.04347826 0.04166667 0.04       0.03846154\n",
      "  0.03703704 0.03571429 0.03448276 0.03333333]\n",
      " [0.04545455 0.04347826 0.04166667 0.04       0.03846154 0.03703704\n",
      "  0.03571429 0.03448276 0.03333333 0.03225806]]\n",
      "\n",
      "Вектор f:\n",
      "[0.18977179 0.61345736 0.62961211 0.77431188 0.97715402 0.34593378\n",
      " 0.07198115 0.29466499 0.17346463 0.26945938]\n",
      "\n",
      "Невязка: 0.742859062627228\n",
      "\n",
      "Относительная норма невязки: 0.45398342847743933\n",
      "\n",
      "Решение с помощью написанной функции:\n",
      "[ 5.81647657e+13 -7.39954446e+14  4.01127416e+15 -1.21360869e+16\n",
      "  2.24640257e+16 -2.60950795e+16  1.85963995e+16 -7.42774221e+15\n",
      "  1.26017418e+15  8.82507673e+12]\n",
      "\n",
      "Решение с помощью встроенной функции:\n",
      "[-3.12894036e+13  4.76690750e+14 -3.14029811e+15  1.17701109e+16\n",
      " -2.77217849e+16  4.26320191e+16 -4.28822975e+16  2.72472826e+16\n",
      " -9.93734981e+15  1.58691657e+15]\n",
      "\n",
      "\n",
      "n = 12\n",
      "\n",
      "Матрица A:\n",
      "[[0.07692308 0.07142857 0.06666667 0.0625     0.05882353 0.05555556\n",
      "  0.05263158 0.05       0.04761905 0.04545455 0.04347826 0.04166667]\n",
      " [0.07142857 0.06666667 0.0625     0.05882353 0.05555556 0.05263158\n",
      "  0.05       0.04761905 0.04545455 0.04347826 0.04166667 0.04      ]\n",
      " [0.06666667 0.0625     0.05882353 0.05555556 0.05263158 0.05\n",
      "  0.04761905 0.04545455 0.04347826 0.04166667 0.04       0.03846154]\n",
      " [0.0625     0.05882353 0.05555556 0.05263158 0.05       0.04761905\n",
      "  0.04545455 0.04347826 0.04166667 0.04       0.03846154 0.03703704]\n",
      " [0.05882353 0.05555556 0.05263158 0.05       0.04761905 0.04545455\n",
      "  0.04347826 0.04166667 0.04       0.03846154 0.03703704 0.03571429]\n",
      " [0.05555556 0.05263158 0.05       0.04761905 0.04545455 0.04347826\n",
      "  0.04166667 0.04       0.03846154 0.03703704 0.03571429 0.03448276]\n",
      " [0.05263158 0.05       0.04761905 0.04545455 0.04347826 0.04166667\n",
      "  0.04       0.03846154 0.03703704 0.03571429 0.03448276 0.03333333]\n",
      " [0.05       0.04761905 0.04545455 0.04347826 0.04166667 0.04\n",
      "  0.03846154 0.03703704 0.03571429 0.03448276 0.03333333 0.03225806]\n",
      " [0.04761905 0.04545455 0.04347826 0.04166667 0.04       0.03846154\n",
      "  0.03703704 0.03571429 0.03448276 0.03333333 0.03225806 0.03125   ]\n",
      " [0.04545455 0.04347826 0.04166667 0.04       0.03846154 0.03703704\n",
      "  0.03571429 0.03448276 0.03333333 0.03225806 0.03125    0.03030303]\n",
      " [0.04347826 0.04166667 0.04       0.03846154 0.03703704 0.03571429\n",
      "  0.03448276 0.03333333 0.03225806 0.03125    0.03030303 0.02941176]\n",
      " [0.04166667 0.04       0.03846154 0.03703704 0.03571429 0.03448276\n",
      "  0.03333333 0.03225806 0.03125    0.03030303 0.02941176 0.02857143]]\n",
      "\n",
      "Вектор f:\n",
      "[0.82867727 0.29672371 0.72196568 0.17493849 0.10096352 0.04918478\n",
      " 0.54172353 0.9651721  0.05564091 0.52801905 0.83139374 0.69261581]\n",
      "\n",
      "Невязка: 2.1146721331756897\n",
      "\n",
      "Относительная норма невязки: 1.0550890776281772\n",
      "\n",
      "Решение с помощью написанной функции:\n",
      "[-1.57885666e+14  2.15906406e+15 -1.24691596e+16  3.95168900e+16\n",
      " -7.40473963e+16  8.05696557e+16 -4.28890051e+16  1.68354005e+15\n",
      "  3.77461437e+15  7.86293309e+15 -8.19169882e+15  2.18844877e+15]\n",
      "\n",
      "Решение с помощью встроенной функции:\n",
      "[-1.89903618e+14  2.35661042e+15 -1.17434176e+16  2.88226610e+16\n",
      " -2.98396438e+16 -1.36888345e+16  6.46862417e+16 -4.27674036e+16\n",
      " -3.68640828e+16  7.24347997e+16 -4.19963485e+16  8.78932269e+15]\n",
      "\n"
     ]
    }
   ],
   "source": [
    "numbers = [i for i in range(4, 13, 2)]\n",
    "residues = []\n",
    "for n in numbers:\n",
    "    matrix = get_matrix(n)\n",
    "    f = get_f(n)\n",
    "    print(f\"\\nn = {n}\\n\")\n",
    "    print(f\"Матрица A:\\n{matrix}\\n\")\n",
    "    print(f\"Вектор f:\\n{f}\\n\")\n",
    "    x = solve(matrix, f)\n",
    "    r = np.linalg.norm(f-np.dot(matrix, x))\n",
    "    rel = r / np.linalg.norm(f)\n",
    "    residues.append(rel)\n",
    "    print(f\"Невязка: {r}\\n\")\n",
    "    print(f\"Относительная норма невязки: {rel}\\n\")\n",
    "    print(f\"Решение с помощью написанной функции:\\n{x}\\n\")\n",
    "    print(f\"Решение с помощью встроенной функции:\\n{np.linalg.solve(matrix, f)}\\n\")"
   ],
   "metadata": {
    "collapsed": false,
    "pycharm": {
     "name": "#%%\n"
    }
   }
  },
  {
   "cell_type": "markdown",
   "source": [
    "Построим график зависимости относительной нормы невязки: $\\frac{||r||}{||f||}=\n",
    "\\frac{||f-Ax||}{||f||}$ от размера матрицы $n.$"
   ],
   "metadata": {
    "collapsed": false
   }
  },
  {
   "cell_type": "code",
   "execution_count": 5,
   "outputs": [
    {
     "data": {
      "text/plain": "<Figure size 921.6x633.6 with 1 Axes>",
      "image/png": "[encoded data removed]"
     },
     "metadata": {
      "needs_background": "light"
     },
     "output_type": "display_data"
    }
   ],
   "source": [
    "import matplotlib.pyplot as plt\n",
    "plt.style.use('seaborn-poster')\n",
    "fig, ax = plt.subplots()\n",
    "ax.plot(numbers, residues)\n",
    "ax.set_ylabel('Относительная норма невязки')\n",
    "ax.set_xlabel('$n$')\n",
    "plt.show()"
   ],
   "metadata": {
    "collapsed": false,
    "pycharm": {
     "name": "#%%\n"
    }
   }
  }
 ],
 "metadata": {
  "kernelspec": {
   "name": "python3",
   "language": "python",
   "display_name": "Python 3"
  },
  "language_info": {
   "codemirror_mode": {
    "name": "ipython",
    "version": 2
   },
   "file_extension": ".py",
   "mimetype": "text/x-python",
   "name": "python",
   "nbconvert_exporter": "python",
   "pygments_lexer": "ipython2",
   "version": "3.8.6-final"
  }
 },
 "nbformat": 4,
 "nbformat_minor": 0
}