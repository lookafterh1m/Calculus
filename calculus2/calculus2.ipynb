{
 "cells": [
  {
   "cell_type": "markdown",
   "source": [
    "## Полином Ньютона"
   ],
   "metadata": {
    "collapsed": false,
    "pycharm": {
     "name": "#%% md\n"
    }
   }
  },
  {
   "cell_type": "code",
   "execution_count": 1,
   "outputs": [],
   "source": [
    "def difference_quotient(nodes_x: list, nodes_f: list):\n",
    "    if len(nodes_x) != len(nodes_f):\n",
    "        return None\n",
    "    if len(nodes_f) == 1:\n",
    "        return nodes_f[0]\n",
    "\n",
    "    quotient = 0\n",
    "    for i in range(len(nodes_x)):\n",
    "        denominator = 1\n",
    "        for j in range(len(nodes_x)):\n",
    "            if i != j:\n",
    "                denominator *= nodes_x[i] - nodes_x[j]\n",
    "        quotient += nodes_f[i] / denominator\n",
    "    return quotient\n",
    "\n",
    "\n",
    "def newton_polynomial(x: float, nodes_x: list, nodes_f: list, accuracy=5):\n",
    "    if len(nodes_x) != len(nodes_f):\n",
    "        return None\n",
    "    pol = 0\n",
    "    for i in range(len(nodes_x)):\n",
    "        factor = 1\n",
    "        for j in range(i):\n",
    "            if i > 0:\n",
    "                factor *= (x - nodes_x[j])\n",
    "        pol += difference_quotient(nodes_x[:i + 1], nodes_f[:i + 1]) * factor\n",
    "    return round(pol, accuracy)\n",
    "\n",
    "\n",
    "def find_argument(demanded_value: float, nodes_x: list, nodes_y: list, accuracy=2):\n",
    "    possible_values = []\n",
    "    argument = nodes_x[0]\n",
    "    while argument < nodes_x[-1]:\n",
    "        polynomial = newton_polynomial(argument, nodes_x, nodes_y, accuracy=accuracy)\n",
    "        if polynomial == demanded_value and round(argument, 3) not in possible_values:\n",
    "            possible_values.append(round(argument, 3))\n",
    "        argument += 1e-04\n",
    "    return possible_values if len(possible_values) != 1 else possible_values[0]\n",
    "\n",
    "\n",
    "def str_argument(demanded_value: float, nodes_x: list, nodes_y: list):\n",
    "    return f\"P{len(nodes_y)}({find_argument(demanded_value, nodes_x, nodes_y)}) = {y}\""
   ],
   "metadata": {
    "collapsed": false,
    "pycharm": {
     "name": "#%% # https://cocalc.com/\n"
    }
   }
  },
  {
   "cell_type": "markdown",
   "source": [
    "### Вариант 2 #7 (а)\n",
    "$x_i\\in\\left\\{0.5,\\, 2,\\, 3,\\, 3.5,\\, 5\\right\\}$\n",
    "\n",
    "$y_i\\in\\left\\{-13.323,\\, -15.16,\\, -8.86,\\, 0.598,\\, 78.5\\right\\}$\n",
    "\n",
    "$y = 16.76$"
   ],
   "metadata": {
    "collapsed": false,
    "pycharm": {
     "name": "#%% md\n"
    }
   }
  },
  {
   "cell_type": "code",
   "execution_count": 2,
   "outputs": [
    {
     "name": "stdout",
     "output_type": "stream",
     "text": [
      "P5(4.0) = 16.76\n"
     ]
    }
   ],
   "source": [
    "x_nodes = [0.5, 2, 3, 3.5, 5]\n",
    "y_nodes = [-13.323, -15.16, -8.86, 0.598, 78.5]\n",
    "y = 16.76\n",
    "\n",
    "print(str_argument(y, x_nodes, y_nodes))"
   ],
   "metadata": {
    "collapsed": false,
    "pycharm": {
     "name": "#%%\n"
    }
   }
  },
  {
   "cell_type": "markdown",
   "source": [
    "### Вариант 2 #7 (б)\n",
    "$x_i\\in\\left\\{1,\\, 2,\\, 2.5,\\, 3\\right\\}$\n",
    "\n",
    "$y_i\\in\\left\\{-6,\\, -1,\\, -5.625,\\, 16\\right\\}$\n",
    "\n",
    "$y = 0$"
   ],
   "metadata": {
    "collapsed": false
   }
  },
  {
   "cell_type": "code",
   "execution_count": 3,
   "outputs": [
    {
     "name": "stdout",
     "output_type": "stream",
     "text": [
      "P4([1.117, 1.95, 1.951, 2.739]) = 0\n"
     ]
    }
   ],
   "source": [
    "x_nodes = [1, 2, 2.5, 3]\n",
    "y_nodes = [-6, -1, -5.625, 16]\n",
    "y = 0\n",
    "\n",
    "print(str_argument(y, x_nodes, y_nodes))"
   ],
   "metadata": {
    "collapsed": false,
    "pycharm": {
     "name": "#%%\n"
    }
   }
  }
 ],
 "metadata": {
  "kernelspec": {
   "display_name": "Python 3",
   "language": "python",
   "name": "python3"
  },
  "language_info": {
   "codemirror_mode": {
    "name": "ipython",
    "version": 2
   },
   "file_extension": ".py",
   "mimetype": "text/x-python",
   "name": "python",
   "nbconvert_exporter": "python",
   "pygments_lexer": "ipython2",
   "version": "2.7.6"
  }
 },
 "nbformat": 4,
 "nbformat_minor": 0
}