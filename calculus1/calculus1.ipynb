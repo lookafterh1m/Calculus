{
 "cells": [
  {
   "cell_type": "code",
   "execution_count": 10,
   "metadata": {
    "pycharm": {
     "name": "#%% # https://cocalc.com/\n"
    }
   },
   "outputs": [],
   "source": [
    "\n",
    "def omega_i(_x: float, i: int, nodes_x: list):\n",
    "    res = 1\n",
    "    for j in range(len(nodes_x)):\n",
    "        if i != j:\n",
    "            res *= (_x - nodes_x[j]) / (nodes_x[i] - nodes_x[j])\n",
    "    return res\n",
    "\n",
    "\n",
    "def lagrange_polynomial(_x: float, nodes_x: list, nodes_f: list):\n",
    "    l = 0\n",
    "    for i in range(len(nodes_f)):\n",
    "        l += omega_i(_x, i, nodes_x) * nodes_f[i]\n",
    "    return l\n",
    "\n",
    "\n",
    "def task(node: list, nodes_x: list, nodes_f: list):\n",
    "    res = \"\"\n",
    "    for _x in node:\n",
    "        res += f\"L{len(nodes_x)}({_x}) = {round(lagrange_polynomial(_x, nodes_x, nodes_f), 5)}\\n\"\n",
    "    return res"
   ]
  },
  {
   "cell_type": "markdown",
   "metadata": {
    "collapsed": true,
    "pycharm": {
     "name": "#%% md\n"
    }
   },
   "source": [
    "## Задание 1\n"
   ]
  },
  {
   "cell_type": "markdown",
   "metadata": {},
   "source": [
    "#### Вариант 1 №10 а)\n",
    "Входные данные:\n",
    "\n",
    "$x_0 = 1$, $x_1 = 2$, $x_2 = 4$, $x_3 = 7$;\n",
    "\n",
    "$f(x_0) = 4.05$, $f(x_1) = 0.4$, $f(x_2) = -4.8$,\n",
    "$f(x_3) = -2.85$\n",
    "\n",
    "$x \\in \\left\\{\\dfrac{3}{2},\\:3,\\:4,\\:5\\right\\}$\n"
   ]
  },
  {
   "cell_type": "code",
   "execution_count": 11,
   "metadata": {
    "pycharm": {
     "name": "#%%\n"
    }
   },
   "outputs": [
    {
     "name": "stdout",
     "output_type": "stream",
     "text": [
      "L4(1.5) = 2.16875\n",
      "L4(3) = -2.65\n",
      "L4(4) = -4.8\n",
      "L4(5) = -5.75\n",
      "\n"
     ]
    }
   ],
   "source": [
    "nodes = [1, 2, 4, 7]\n",
    "f_nodes = [4.05, 0.4, -4.8, -2.85]\n",
    "x = [3 / 2, 3, 4, 5]\n",
    "\n",
    "print(task(x, nodes, f_nodes))"
   ]
  },
  {
   "cell_type": "markdown",
   "metadata": {},
   "source": [
    "#### Вариант 1 №10 б)\n",
    "Входные данные:\n",
    "\n",
    "$x_0 = 10$, $x_1 = 13$, $x_2 = 17$, $x_3 = 21$,\n",
    "$x_4 = 25$, $x_5 = 28$;\n",
    "\n",
    "$f(x_0) = -892$, $f(x_1) = -1311$, $f(x_2) = -1462$,\n",
    "$f(x_3) = -318$, $f(x_4) = 3524$, $f(x_5) = 9378$;\n",
    "\n",
    "$x \\in \\left\\{11,\\:15,\\:22,\\:27\\right\\}$;\n"
   ]
  },
  {
   "cell_type": "code",
   "execution_count": 12,
   "metadata": {
    "pycharm": {
     "name": "#%%\n"
    }
   },
   "outputs": [
    {
     "name": "stdout",
     "output_type": "stream",
     "text": [
      "L6(11) = -1043.46864\n",
      "L6(15) = -1480.95151\n",
      "L6(22) = 324.94075\n",
      "L6(27) = 7082.04819\n",
      "\n"
     ]
    }
   ],
   "source": [
    "nodes = [10, 13, 17, 21, 25, 28]\n",
    "f_nodes = [-892, -1311, -1462, -318, 3542, 9378]\n",
    "x = [11, 15, 22, 27]\n",
    "\n",
    "print(task(x, nodes, f_nodes))"
   ]
  },
  {
   "cell_type": "markdown",
   "metadata": {},
   "source": [
    "#### Вариант 1 №10 в)\n",
    "Входные данные:\n",
    "\n",
    "$x_1 = 11$, $x_2 = 13$, $x_3 = 15$, $x_4 = 17$;\n",
    "\n",
    "$f(x_1) = 2.655$, $f(x_2) = -1.015$, $f(x_3) = -3.125$,\n",
    "$f(x_4) = -3.435$\n",
    "\n",
    "$x \\in \\left[12,\\:14,\\:16\\right]$\n"
   ]
  },
  {
   "cell_type": "code",
   "execution_count": 13,
   "metadata": {
    "pycharm": {
     "name": "#%%\n"
    }
   },
   "outputs": [
    {
     "name": "stdout",
     "output_type": "stream",
     "text": [
      "L4(12) = 0.64\n",
      "L4(14) = -2.28\n",
      "L4(16) = -3.52\n",
      "\n"
     ]
    }
   ],
   "source": [
    "nodes = [11, 13, 15, 17]\n",
    "f_nodes = [2.655, -1.015, -3.125, -3.435]\n",
    "x = [12, 14, 16]\n",
    "\n",
    "print(task(x, nodes, f_nodes))"
   ]
  },
  {
   "cell_type": "markdown",
   "metadata": {},
   "source": [
    "#### Вариант 2 №10 а)\n",
    "Входные данные:\n",
    "\n",
    "$x_0 = 1$, $x_1 = 2$, $x_2 = 4$, $x_3 = 7$;\n",
    "\n",
    "$f(x_0) = -2.179$, $f(x_1) = -6.776$, $f(x_2) = -17.01$,\n",
    "$f(x_3) = -34.77$\n",
    "\n",
    "$x \\in \\left\\{\\dfrac{3}{2},\\:3,\\:4,\\:5\\right\\}$\n"
   ]
  },
  {
   "cell_type": "code",
   "execution_count": 14,
   "metadata": {
    "pycharm": {
     "name": "#%%\n"
    }
   },
   "outputs": [
    {
     "name": "stdout",
     "output_type": "stream",
     "text": [
      "L4(1.5) = -4.43284\n",
      "L4(3) = -11.72391\n",
      "L4(4) = -17.01\n",
      "L4(5) = -22.62153\n",
      "\n"
     ]
    }
   ],
   "source": [
    "nodes = [1, 2, 4, 7]\n",
    "f_nodes = [-2.179, -6.776, -17.01, -34.77]\n",
    "x = [3 / 2, 3, 4, 5]\n",
    "\n",
    "print(task(x, nodes, f_nodes))"
   ]
  },
  {
   "cell_type": "markdown",
   "metadata": {},
   "source": [
    "#### Вариант 2 №10 б)\n",
    "Входные данные:\n",
    "\n",
    "$x_0 = 10$, $x_1 = 13$, $x_2 = 17$, $x_3 = 21$,\n",
    "$x_4 = 25$, $x_5 = 28$;\n",
    "\n",
    "$f(x_0) = -382$, $f(x_1) = -514$, $f(x_2) = -460$,\n",
    "$f(x_3) = 156$, $f(x_4) = 1766$, $f(x_5) = 3956$;\n",
    "\n",
    "$x \\in \\left\\{11,\\:15,\\:22,\\:27\\right\\}$;\n"
   ]
  },
  {
   "cell_type": "code",
   "execution_count": 15,
   "metadata": {
    "pycharm": {
     "name": "#%%\n"
    }
   },
   "outputs": [
    {
     "name": "stdout",
     "output_type": "stream",
     "text": [
      "L6(11) = -434.25\n",
      "L6(15) = -534.78247\n",
      "L6(22) = 445.78571\n",
      "L6(27) = 3112.65909\n",
      "\n"
     ]
    }
   ],
   "source": [
    "nodes = [10, 13, 17, 21, 25, 28]\n",
    "f_nodes = [-382, -514, -460, 156, 1766, 3956]\n",
    "x = [11, 15, 22, 27]\n",
    "\n",
    "print(task(x, nodes, f_nodes))"
   ]
  },
  {
   "cell_type": "markdown",
   "metadata": {},
   "source": [
    "#### Вариант 2 №10 в)\n",
    "Входные данные:\n",
    "\n",
    "$x_1 = 11$, $x_2 = 13$, $x_3 = 15$, $x_4 = 17$;\n",
    "\n",
    "$f(x_1) = 42.255$, $f(x_2) = 35.385$, $f(x_3) = 26.875$,\n",
    "$f(x_4) = 16.965$\n",
    "\n",
    "$x \\in \\left\\{12,\\:14,\\:16\\right\\}$\n"
   ]
  },
  {
   "cell_type": "code",
   "execution_count": 16,
   "metadata": {
    "pycharm": {
     "name": "#%%\n"
    }
   },
   "outputs": [
    {
     "name": "stdout",
     "output_type": "stream",
     "text": [
      "L4(12) = 39.04\n",
      "L4(14) = 31.32\n",
      "L4(16) = 22.08\n",
      "\n"
     ]
    }
   ],
   "source": [
    "nodes = [11, 13, 15, 17]\n",
    "f_nodes = [42.255, 35.385, 26.875,\n",
    "16.965]\n",
    "x = [12, 14, 16]\n",
    "\n",
    "print(task(x, nodes, f_nodes))\n"
   ]
  }
 ],
 "metadata": {
  "kernelspec": {
   "display_name": "Python 3",
   "language": "python",
   "name": "python3"
  },
  "language_info": {
   "codemirror_mode": {
    "name": "ipython",
    "version": 3
   },
   "file_extension": ".py",
   "mimetype": "text/x-python",
   "name": "python",
   "nbconvert_exporter": "python",
   "pygments_lexer": "ipython3",
   "version": "3.8.6"
  }
 },
 "nbformat": 4,
 "nbformat_minor": 1
}