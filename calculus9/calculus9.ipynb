{
 "cells": [
  {
   "cell_type": "code",
   "execution_count": 1,
   "metadata": {
    "collapsed": true
   },
   "outputs": [],
   "source": [
    "from IPython.display import display, Latex\n",
    "import numpy as np\n",
    "\n",
    "def get_matrix(n: int):  # returns a matrix that satisfies to the conditions from the task #11\n",
    "    m = np.ones((n, n), np.float)\n",
    "    for i in range(n):\n",
    "        for j in range(n):\n",
    "            if i == j:\n",
    "                m[i, j] = i + 2\n",
    "            elif i < j:\n",
    "                m[i, j] = 2\n",
    "    return m\n",
    "\n",
    "\n",
    "def det(m):\n",
    "    m = m.copy()\n",
    "    if not m.all():\n",
    "        return 0\n",
    "    d = 1\n",
    "    while len(m) > 1:  # each iteration slices matrix until its dim = 1\n",
    "        l = 0\n",
    "        for i in range(len(m)):\n",
    "            if m[i, 0] != 0:  # looking for the first nonzero element in the column\n",
    "                l = i         # l -- index of that element\n",
    "                d *= m[l, 0]\n",
    "                m[l] = np.array([x / m[l, 0] for x in m[l]])  # making first element in the row equal 1\n",
    "                break\n",
    "        for i in range(l + 1, len(m)):  # making other elements in the column zero\n",
    "            if m[i, 0] != 0:\n",
    "                d *= m[i, 0]\n",
    "                m[i] = np.array([x - y * m[i, 0] for x, y in zip(m[i], m[l])])\n",
    "        m = m[:, 1:]  # removing first column\n",
    "        temp = []\n",
    "        for i in range(len(m)):  # removing l-row\n",
    "            if i != l:\n",
    "                temp.append(m[i])\n",
    "        m = np.array(temp)  # \"sliced\" matrix\n",
    "\n",
    "    return d * float(m)\n",
    "\n",
    "\n",
    "def gauss(m: np.ndarray, f: np.ndarray):  # Gauss method\n",
    "    m = m.copy()\n",
    "    f = f.copy()\n",
    "    n = len(m)\n",
    "    expd_m = []\n",
    "    x = []  # list for unknowns\n",
    "    for i in range(n):  # creating expanded matrix\n",
    "        row = m[i].tolist()\n",
    "        row.append(f[i])\n",
    "        expd_m.append(row)\n",
    "    expd_m = np.array(expd_m)\n",
    "    l = 0\n",
    "    for k in range(n):\n",
    "        for i in range(k, n):\n",
    "            if expd_m[i, k] != 0:  # looking for the first nonzero element in the column\n",
    "                l = i         # l -- index of that element\n",
    "                expd_m[l] = np.array([x / expd_m[l, k] for x in expd_m[l]])  # making first element in the row equal 1\n",
    "                break\n",
    "        for i in range(l + 1, n):  # making other elements in the column zero\n",
    "            if expd_m[i, k] != 0:\n",
    "                expd_m[i] = np.array([y - x / expd_m[i, k] for x, y in zip(expd_m[i], expd_m[l])])\n",
    "    for i in range(n - 1, -1, -1):\n",
    "        x.append(expd_m[i, -1] -  sum(expd_m[i, i + 1:n] * x))\n",
    "    x.reverse()\n",
    "    return x\n",
    "\n",
    "\n",
    "\n",
    "def inverse(m):  # finding inverse matrix usig Gauss method\n",
    "    m = m.copy()\n",
    "    n = len(m)\n",
    "    inv = []\n",
    "    for i in range(n):\n",
    "        f = np.zeros(n)\n",
    "        f[i] = 1\n",
    "        inv.append(gauss(m, f))\n",
    "    return np.transpose(np.array(inv))\n"
   ]
  },
  {
   "cell_type": "markdown",
   "source": [
    "<hr/>\n",
    "### Метод Гаусса. Схема единственного деления.\n",
    "Матрица $A$ задаётся следующим образом:\n",
    "\n",
    "$a_{ij}=\\begin{cases}i+1,\\:  &i=j\\\\ 1,\\quad &i>j,\\\\ 2,\\quad &i<j;\\:\\:i,j=1,\\ldots,n.\\end{cases}$\n",
    "\n",
    "<b>С помощью метода Гаусса найти:</b>\n",
    "\n",
    "а) Определитель произвольной матрицы\n",
    "\n",
    "б) Обратную матрицую"
   ],
   "metadata": {
    "collapsed": false
   }
  },
  {
   "cell_type": "markdown",
   "source": [
    "<hr/>Определитель находим с помощью функции __det()__.\n",
    "\n",
    "Ниже подсчитаем определитель для матриц первых 4 размерностей с помощью __det()__ и встроенной функции __linalg.det()__\n",
    "<hr/>"
   ],
   "metadata": {
    "collapsed": false,
    "pycharm": {
     "name": "#%% md\n"
    }
   }
  },
  {
   "cell_type": "code",
   "source": [
    "n = 5\n",
    "for j in range(1, n):\n",
    "    matrix = get_matrix(j)\n",
    "    print(f\"\\nn = {j}\\n\")\n",
    "    print(f\"Сама матрица:\\n {matrix}\")\n",
    "    print(f\"\\nОпределитель получившийся у нас: {det(matrix)}\")\n",
    "    print(f\"\\nОпределитель с помощью  встроенной функции: {round(np.linalg.det(matrix), 5)}\")\n"
   ],
   "metadata": {
    "collapsed": false,
    "pycharm": {
     "name": "#%%\n"
    }
   },
   "execution_count": 2,
   "outputs": [
    {
     "name": "stdout",
     "output_type": "stream",
     "text": [
      "\n",
      "n = 1\n",
      "\n",
      "Сама матрица:\n",
      " [[2.]]\n",
      "\n",
      "Определитель получившийся у нас: 2.0\n",
      "\n",
      "Определитель с помощью  встроенной функции: 2.0\n",
      "\n",
      "n = 2\n",
      "\n",
      "Сама матрица:\n",
      " [[2. 2.]\n",
      " [1. 3.]]\n",
      "\n",
      "Определитель получившийся у нас: 4.0\n",
      "\n",
      "Определитель с помощью  встроенной функции: 4.0\n",
      "\n",
      "n = 3\n",
      "\n",
      "Сама матрица:\n",
      " [[2. 2. 2.]\n",
      " [1. 3. 2.]\n",
      " [1. 1. 4.]]\n",
      "\n",
      "Определитель получившийся у нас: 12.0\n",
      "\n",
      "Определитель с помощью  встроенной функции: 12.0\n",
      "\n",
      "n = 4\n",
      "\n",
      "Сама матрица:\n",
      " [[2. 2. 2. 2.]\n",
      " [1. 3. 2. 2.]\n",
      " [1. 1. 4. 2.]\n",
      " [1. 1. 1. 5.]]\n",
      "\n",
      "Определитель получившийся у нас: 48.0\n",
      "\n",
      "Определитель с помощью  встроенной функции: 48.0\n"
     ]
    }
   ]
  },
  {
   "cell_type": "markdown",
   "source": [
    "<hr/>Обратную матрицу находит функция __inverse()__.\n",
    "\n",
    "Ниже подсчитаем обратную матрицу для матриц первых 4 размерностей с помощью __inverse()__ и встроенной функции\n",
    "__linalg.inv()__<hr/>"
   ],
   "metadata": {
    "collapsed": false
   }
  },
  {
   "cell_type": "code",
   "execution_count": 3,
   "outputs": [
    {
     "name": "stdout",
     "output_type": "stream",
     "text": [
      "\n",
      "n = 1\n",
      "\n",
      "\"Наша\" обратная матрица:\n",
      " [[0.5]]\n",
      "\n",
      "Обратная матрица с помощью  встроенной функции:\n",
      " [[0.5]]\n",
      "\n",
      "n = 2\n",
      "\n",
      "\"Наша\" обратная матрица:\n",
      " [[ 0.75 -0.5 ]\n",
      " [-0.25  0.5 ]]\n",
      "\n",
      "Обратная матрица с помощью  встроенной функции:\n",
      " [[ 0.75 -0.5 ]\n",
      " [-0.25  0.5 ]]\n",
      "\n",
      "n = 3\n",
      "\n",
      "\"Наша\" обратная матрица:\n",
      " [[ 0.83333333 -0.5        -0.16666667]\n",
      " [-0.16666667  0.5        -0.16666667]\n",
      " [-0.16666667 -0.          0.33333333]]\n",
      "\n",
      "Обратная матрица с помощью  встроенной функции:\n",
      " [[ 0.83333333 -0.5        -0.16666667]\n",
      " [-0.16666667  0.5        -0.16666667]\n",
      " [-0.16666667  0.          0.33333333]]\n",
      "\n",
      "n = 4\n",
      "\n",
      "\"Наша\" обратная матрица:\n",
      " [[ 0.875      -0.5        -0.16666667 -0.08333333]\n",
      " [-0.125       0.5        -0.16666667 -0.08333333]\n",
      " [-0.125      -0.          0.33333333 -0.08333333]\n",
      " [-0.125      -0.         -0.          0.25      ]]\n",
      "\n",
      "Обратная матрица с помощью  встроенной функции:\n",
      " [[ 0.875      -0.5        -0.16666667 -0.08333333]\n",
      " [-0.125       0.5        -0.16666667 -0.08333333]\n",
      " [-0.125       0.          0.33333333 -0.08333333]\n",
      " [-0.125       0.          0.          0.25      ]]\n"
     ]
    }
   ],
   "source": [
    "n = 5\n",
    "for j in range(1, n):\n",
    "    matrix = get_matrix(j)\n",
    "    print(f\"\\nn = {j}\\n\")\n",
    "    print(f'\"Наша\" обратная матрица:\\n {inverse(matrix)}')\n",
    "    print(f\"\\nОбратная матрица с помощью  встроенной функции:\\n {np.linalg.inv(matrix)}\")"
   ],
   "metadata": {
    "collapsed": false,
    "pycharm": {
     "name": "#%%\n"
    }
   }
  }
 ],
 "metadata": {
  "kernelspec": {
   "display_name": "Python 3",
   "language": "python",
   "name": "python3"
  },
  "language_info": {
   "codemirror_mode": {
    "name": "ipython",
    "version": 2
   },
   "file_extension": ".py",
   "mimetype": "text/x-python",
   "name": "python",
   "nbconvert_exporter": "python",
   "pygments_lexer": "ipython2",
   "version": "2.7.6"
  }
 },
 "nbformat": 4,
 "nbformat_minor": 0
}