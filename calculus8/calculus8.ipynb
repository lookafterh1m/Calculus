{
 "cells": [
  {
   "cell_type": "markdown",
   "metadata": {
    "collapsed": true,
    "pycharm": {
     "name": "#%% md\n"
    }
   },
   "source": [
    "# Квадратурные формулы типа Гаусса\n",
    "### Вычислить интеграл с заданной точностью, предварительно определив число узлов и коэффициенты\n",
    "$\\int\\limits_0^1\\sqrt{x}\\cos x^2dx,\\:\\varepsilon=10^{-4}.$\n",
    "\n",
    "#### Чтобы промежуток интегрирования стал $[-1;\\:1]$, сделаем замену переменной $x = \\dfrac{1 - t}{2},$ тогда\n",
    "\n",
    "$\\int\\limits_0^1\\sqrt{x}\\cos x^2dx=\\frac{\\sqrt{2}}{4}\\int\\limits_{-1}^1\\sqrt{1-x}\\cos\\left(\\frac{1-x}{2}\\right)^2dx.$"
   ]
  },
  {
   "cell_type": "code",
   "execution_count": 1,
   "outputs": [],
   "source": [
    "from IPython.display import display, Latex\n",
    "import math\n",
    "\n",
    "\n",
    "def legendre(n):  # builds Legendre's polynomial of degree n recursively\n",
    "    if n == 0:\n",
    "        return lambda x: 1\n",
    "    if n == 1:\n",
    "        return lambda x: x\n",
    "    return lambda x: ((2 * n) - 1) * x * legendre(n - 1)(x) / n - (n - 1) * legendre(n - 2)(x) / n\n",
    "\n",
    "\n",
    "def legendre_der(n):  # builds polynomial's derivative\n",
    "    if n == 0:\n",
    "        return lambda x: 0\n",
    "    if n == 1:\n",
    "        return lambda x: 1\n",
    "    return lambda x: (n / (1 - x ** 2)) * (legendre(n - 1)(x) - x * legendre(n)(x))\n",
    "\n",
    "\n",
    "def get_legendre_roots(n, accur=1e-6):  # find roots of polynomial\n",
    "    roots = []\n",
    "    pol = legendre(n)\n",
    "    d_pol = legendre_der(n)\n",
    "    for i in range(1, n + 1):\n",
    "        x0 = math.cos(math.pi * (4 * i - 1) / (4 * n + 2))\n",
    "        while True:\n",
    "            x1 = x0 - pol(x0) / d_pol(x0)\n",
    "            if abs(x1 - x0) <= accur:\n",
    "                roots.append(x1)\n",
    "                break\n",
    "            x0 = x1\n",
    "    return roots\n",
    "\n",
    "\n",
    "def quadrature(func, n):  # calculates Gaussian quadrature for given function func with n knots\n",
    "    roots = get_legendre_roots(n)\n",
    "    d_pol = legendre_der(n)\n",
    "    quadr = 0\n",
    "    for i in range(1, n + 1):\n",
    "        coeff = 2 / ((1 - roots[i - 1] ** 2) * (d_pol(roots[i - 1]) ** 2))\n",
    "        quadr += coeff * func(roots[i - 1])\n",
    "    return quadr"
   ],
   "metadata": {
    "collapsed": false,
    "pycharm": {
     "name": "#%%\n"
    }
   }
  },
  {
   "cell_type": "markdown",
   "source": [
    "#### Полиномы Лежандра степени $n$ вычисляются по рекуррентной формуле:\n",
    "$P_n(x)=\\frac{2n-1}{n}xP_{n-1}(x)-\\frac{n-1}{n}P_{n-2}(x),\\:n\\ge2;\\:\\:P_0(x)=1,\\:\\: P_1(x)=x.$\n",
    "\n",
    "#### Производную полинома можно найти с помощью полиномов меньшей степени:\n",
    "$P_n'(x)=\\frac{n}{1-x^2}\\left(P_{n-1}(x)-xP_n(x)\\right).$\n",
    "\n",
    "#### Корни полинома Лежандра находятся по методу Ньютона с помощью следующих соотношений:\n",
    "$x_i^{(k+1)}\\approx x_i^{(k)}-\\frac{P_n(x_i^{(k)})}{P_n'(x_i^{(k)})}.$\n",
    "\n",
    "#### По корням полинома Лежандра строится квадратурная формула Гаусса:\n",
    "$\\int\\limits_{-1}^1f(x)dx\\approx\\sum\\limits_{k=1}^nA_kf(x_k),$\n",
    "где коэффициенты $A_k$ вычисляются по формуле\n",
    "$A_k=\\frac{2}{(1-x_k^2)((P_n'(x_k))^2},\\:k=1,\\:\\ldots,\\:n.$"
   ],
   "metadata": {
    "collapsed": false,
    "pycharm": {
     "name": "#%% md\n"
    }
   }
  },
  {
   "cell_type": "code",
   "execution_count": 2,
   "outputs": [
    {
     "data": {
      "text/plain": "<IPython.core.display.Latex object>",
      "text/latex": "$\\int\\limits_0^1\\sqrt{x}\\cos x^2dx\\approx 0.5904944$, $n=2$"
     },
     "metadata": {},
     "output_type": "display_data"
    },
    {
     "data": {
      "text/plain": "<IPython.core.display.Latex object>",
      "text/latex": "$\\int\\limits_0^1\\sqrt{x}\\cos x^2dx\\approx 0.5824128$, $n=3$"
     },
     "metadata": {},
     "output_type": "display_data"
    },
    {
     "data": {
      "text/plain": "<IPython.core.display.Latex object>",
      "text/latex": "$\\int\\limits_0^1\\sqrt{x}\\cos x^2dx\\approx 0.5812020$, $n=4$"
     },
     "metadata": {},
     "output_type": "display_data"
    },
    {
     "data": {
      "text/plain": "<IPython.core.display.Latex object>",
      "text/latex": "$\\int\\limits_0^1\\sqrt{x}\\cos x^2dx\\approx 0.5806722$, $n=5$"
     },
     "metadata": {},
     "output_type": "display_data"
    },
    {
     "data": {
      "text/plain": "<IPython.core.display.Latex object>",
      "text/latex": "$\\int\\limits_0^1\\sqrt{x}\\cos x^2dx\\approx 0.5804218$, $n=6$"
     },
     "metadata": {},
     "output_type": "display_data"
    },
    {
     "data": {
      "text/plain": "<IPython.core.display.Latex object>",
      "text/latex": "$\\int\\limits_0^1\\sqrt{x}\\cos x^2dx\\approx 0.5802885$, $n=7$"
     },
     "metadata": {},
     "output_type": "display_data"
    },
    {
     "data": {
      "text/plain": "<IPython.core.display.Latex object>",
      "text/latex": "$\\int\\limits_0^1\\sqrt{x}\\cos x^2dx\\approx 0.5802110$, $n=8$"
     },
     "metadata": {},
     "output_type": "display_data"
    },
    {
     "data": {
      "text/plain": "<IPython.core.display.Latex object>",
      "text/latex": "$\\int\\limits_0^1\\sqrt{x}\\cos x^2dx\\approx 0.5801629$, $n=9$"
     },
     "metadata": {},
     "output_type": "display_data"
    },
    {
     "data": {
      "text/plain": "<IPython.core.display.Latex object>",
      "text/latex": "В итоге $\\int\\limits_0^1\\sqrt{x}\\cos x^2dx\\approx 0.5801629$, точность достигается при $n=9$"
     },
     "metadata": {},
     "output_type": "display_data"
    }
   ],
   "source": [
    "accuracy = 1e-4\n",
    "f = lambda x: math.sqrt(2 - 2 * x) * math.cos(((x - 1) / 2) ** 2) / 4\n",
    "\n",
    "k = 2\n",
    "while True:\n",
    "    q1 = quadrature(f, k)\n",
    "    q2 = quadrature(f, k + 1)\n",
    "    display(Latex(\"$\\int\\limits_0^1\\sqrt{x}\\cos x^2dx\\\\approx %.7f$, $n=%i$\"%(q1, k)))\n",
    "    display(Latex(\"$\\int\\limits_0^1\\sqrt{x}\\cos x^2dx\\\\approx %.7f$, $n=%i$\"%(q2, k + 1)))\n",
    "    if abs(q1 - q2) < accuracy:\n",
    "        break\n",
    "    k += 2\n",
    "m = k + 1\n",
    "\n",
    "display(Latex(\"В итоге $\\int\\limits_0^1\\sqrt{x}\\cos x^2dx\\\\approx %.7f$, точность достигается при $n=%i$\"%(q2, k + 1)))"
   ],
   "metadata": {
    "collapsed": false,
    "pycharm": {
     "name": "#%%\n"
    }
   }
  },
  {
   "cell_type": "markdown",
   "source": [
    "### Далее сравним полученные данные с формулами трапеций и Симпсона"
   ],
   "metadata": {
    "collapsed": false
   }
  },
  {
   "cell_type": "code",
   "execution_count": 3,
   "outputs": [],
   "source": [
    "def gen_f(a: float, b: float, n: float, func):\n",
    "    h = abs(b - a) / n\n",
    "    for i in range(n + 1):\n",
    "        yield func(a + i * h)\n",
    "\n",
    "\n",
    "def trapeze(a: float, b: float, n: float, func):\n",
    "    g = gen_f(a, b, n, func)\n",
    "    res = 0\n",
    "    for p in g:\n",
    "        res += 2 * p\n",
    "    res -= func(a) + func(b)\n",
    "    res *= (b - a) / (2 * n)\n",
    "    return res\n",
    "\n",
    "\n",
    "def simpson(a: float, b: float, n: float, func):\n",
    "    g = gen_f(a, b, n, func)\n",
    "    res = 0\n",
    "    c = True\n",
    "    for p in g:\n",
    "        if c:\n",
    "            res += 2 * p\n",
    "            c = False\n",
    "        else:\n",
    "            res += 4 * p\n",
    "            c = True\n",
    "    res -= func(a) + func(b)\n",
    "    res *= (b - a) / (3 * n)\n",
    "    return res"
   ],
   "metadata": {
    "collapsed": false,
    "pycharm": {
     "name": "#%%\n"
    }
   }
  },
  {
   "cell_type": "markdown",
   "source": [
    "### Формула трапеций:"
   ],
   "metadata": {
    "collapsed": false
   }
  },
  {
   "cell_type": "code",
   "execution_count": 4,
   "outputs": [
    {
     "data": {
      "text/plain": "<IPython.core.display.Latex object>",
      "text/latex": "$\\int\\limits_0^1\\sqrt{x}\\cos x^2dx\\approx 0.5800136,\\:$при $n=384;$"
     },
     "metadata": {},
     "output_type": "display_data"
    }
   ],
   "source": [
    "a = -1\n",
    "b = 1\n",
    "eps = 1e-4  # given accuracy\n",
    "\n",
    "k = 3\n",
    "t1 = trapeze(a, b, k, f)\n",
    "t2 = trapeze(a, b, k * 2, f)\n",
    "while abs(t1 - t2) >= eps:\n",
    "    k *= 2\n",
    "    t1 = trapeze(a, b, k, f)\n",
    "    t2 = trapeze(a, b, k * 2, f)\n",
    "display(Latex(\"$\\int\\limits_0^1\\sqrt{x}\\cos x^2dx\\\\approx %.7f,\\:$\"\n",
    "              \"при $n=%i;$\"%(t2, k * 2)))"
   ],
   "metadata": {
    "collapsed": false,
    "pycharm": {
     "name": "#%%\n"
    }
   }
  },
  {
   "cell_type": "markdown",
   "source": [
    "### Формула Симпсона:"
   ],
   "metadata": {
    "collapsed": false
   }
  },
  {
   "cell_type": "code",
   "execution_count": 5,
   "outputs": [
    {
     "data": {
      "text/plain": "<IPython.core.display.Latex object>",
      "text/latex": "$\\int\\limits_0^1\\sqrt{x}\\cos x^2dx\\approx 0.5800222,\\:$при $\\:n=256;$"
     },
     "metadata": {},
     "output_type": "display_data"
    }
   ],
   "source": [
    "k = 2\n",
    "t1 = simpson(a, b, k, f)\n",
    "t2 = simpson(a, b, k + 2, f)\n",
    "while abs(t1 - t2) >= eps:\n",
    "    k *= 2\n",
    "    t1 = simpson(a, b, k, f)\n",
    "    t2 = simpson(a, b, k * 2, f)\n",
    "display(Latex(\"$\\int\\limits_0^1\\sqrt{x}\\cos x^2dx\\\\approx %.7f,\\:$\"\n",
    "              \"при $\\:n=%i;$\"%(t2, k * 2)))"
   ],
   "metadata": {
    "collapsed": false,
    "pycharm": {
     "name": "#%%\n"
    }
   }
  },
  {
   "cell_type": "markdown",
   "source": [
    "### Квадратурные формулы Гаусса:"
   ],
   "metadata": {
    "collapsed": false,
    "pycharm": {
     "name": "#%% md\n"
    }
   }
  },
  {
   "cell_type": "code",
   "execution_count": 6,
   "outputs": [
    {
     "data": {
      "text/plain": "<IPython.core.display.Latex object>",
      "text/latex": "$\\int\\limits_0^1\\sqrt{x}\\cos x^2dx\\approx 0.5801629$, $n=9.$"
     },
     "metadata": {},
     "output_type": "display_data"
    }
   ],
   "source": [
    "display(Latex(\"$\\int\\limits_0^1\\sqrt{x}\\cos x^2dx\\\\approx %.7f$, $n=%i.$\"%(q2, m)))"
   ],
   "metadata": {
    "collapsed": false,
    "pycharm": {
     "name": "#%%\n"
    }
   }
  },
  {
   "cell_type": "markdown",
   "source": [
    "Квадратурные формулы, очевидно, выигрывают в достижении необходимой точности, так она достигается при $n\\le 10$, в\n",
    "отличие от формул трапеции и Симпсона, где $n$ исчисляется сотнями."
   ],
   "metadata": {
    "collapsed": false,
    "pycharm": {
     "name": "#%% md\n"
    }
   }
  }
 ],
 "metadata": {
  "kernelspec": {
   "display_name": "Python 3",
   "language": "python",
   "name": "python3"
  },
  "language_info": {
   "codemirror_mode": {
    "name": "ipython",
    "version": 2
   },
   "file_extension": ".py",
   "mimetype": "text/x-python",
   "name": "python",
   "nbconvert_exporter": "python",
   "pygments_lexer": "ipython2",
   "version": "2.7.6"
  }
 },
 "nbformat": 4,
 "nbformat_minor": 0
}