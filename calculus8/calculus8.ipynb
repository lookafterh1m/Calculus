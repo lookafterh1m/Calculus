{
 "cells": [
  {
   "cell_type": "markdown",
   "metadata": {
    "collapsed": true,
    "pycharm": {
     "name": "#%% md\n"
    }
   },
   "source": [
    "# Квадратурные формулы типа Гаусса\n",
    "### Вычислить интеграл с заданной точностью, предварительно определив число узлов и коэффициенты\n",
    "$\\int\\limits_0^1\\sqrt{x}\\cos x^2dx,\\:\\varepsilon=10^{-4}.$\n",
    "\n",
    "#### Чтобы промежуток интегрирования стал $[-1;\\:1]$, сделаем замену переменной $x = \\dfrac{1 - t}{2},$ тогда\n",
    "\n",
    "$\\int\\limits_0^1\\sqrt{x}\\cos x^2dx=\\frac{\\sqrt{2}}{4}\\int\\limits_{-1}^1\\sqrt{1 - x}\\cos \\left(\\frac{1 - x}{2}\\right)^2dx.$"
   ]
  },
  {
   "cell_type": "code",
   "execution_count": 1,
   "outputs": [],
   "source": [
    "from IPython.display import display, Latex\n",
    "import math\n",
    "\n",
    "\n",
    "def legendre(n):  # builds Legendre's polynomial of degree n recursively\n",
    "    if n == 0:\n",
    "        return lambda x: 1\n",
    "    if n == 1:\n",
    "        return lambda x: x\n",
    "    return lambda x: ((2 * n) - 1) * x * legendre(n - 1)(x) / n - (n - 1) * legendre(n - 2)(x) / n\n",
    "\n",
    "\n",
    "def legendre_der(n):  # builds polynomial's derivative\n",
    "    if n == 0:\n",
    "        return lambda x: 0\n",
    "    if n == 1:\n",
    "        return lambda x: 1\n",
    "    return lambda x: (n / (1 - x ** 2)) * (legendre(n - 1)(x) - x * legendre(n)(x))\n",
    "\n",
    "\n",
    "def get_legendre_roots(n, accur=1e-6):  # find roots of polynomial\n",
    "    roots = []\n",
    "    pol = legendre(n)\n",
    "    d_pol = legendre_der(n)\n",
    "    for i in range(1, n + 1):\n",
    "        x0 = math.cos(math.pi * (4 * i - 1) / (4 * n + 2))\n",
    "        while True:\n",
    "            x1 = x0 - pol(x0) / d_pol(x0)\n",
    "            if abs(x1 - x0) <= accur:\n",
    "                roots.append(x1)\n",
    "                break\n",
    "            x0 = x1\n",
    "    return roots\n",
    "\n",
    "\n",
    "def quadrature(func, n):  # calculates Gaussian quadrature for given function func with n knots\n",
    "    roots = get_legendre_roots(n)\n",
    "    d_pol = legendre_der(n)\n",
    "    quadr = 0\n",
    "    for i in range(1, n + 1):\n",
    "        coeff = 2 / ((1 - roots[i - 1] ** 2) * (d_pol(roots[i - 1]) ** 2))\n",
    "        quadr += coeff * func(roots[i - 1])\n",
    "    return quadr"
   ],
   "metadata": {
    "collapsed": false,
    "pycharm": {
     "name": "#%%\n"
    }
   }
  },
  {
   "cell_type": "markdown",
   "source": [
    "#### Полиномы Лежандра степени $n$ вычисляются по рекуррентной формуле:\n",
    "$P_n(x)=\\frac{2n-1}{n}xP_{n-1}(x)-\\frac{n-1}{n}P_{n-2}(x),\\:n\\ge2;\\:\\:P_0(x)=1,\\:\\: P_1(x)=x.$\n",
    "\n",
    "#### Производную полинома можно найти с помощью полиномов меньшей степени:\n",
    "$P_n'(x)=\\frac{n}{1-x^2}\\left(P_{n-1}(x)-xP_n(x)\\right).$\n",
    "\n",
    "#### Корни полинома Лежандра находятся по методу Ньютона с помощью следующих соотношений:\n",
    "$x_i^{(k+1)}=x_i^{(k)}-\\frac{P_n(x_i^{(k)})}{P_n'(x_i^{(k)})}.$\n",
    "\n",
    "#### По корням полинома Лежандра строится квадратурная формула Гаусса:\n",
    "$\\int\\limits_{-1}^1f(x)dx=\\sum\\limits_{k=1}^nA_kf(x_k),$\n",
    "где коэффициенты $A_k$ вычисляются по формуле\n",
    "$A_k=\\frac{2}{(1-x_k^2)((P_n'(x_k))^2},\\:k=1,\\:\\ldots,\\:n.$"
   ],
   "metadata": {
    "collapsed": false,
    "pycharm": {
     "name": "#%% md\n"
    }
   }
  },
  {
   "cell_type": "code",
   "execution_count": 2,
   "outputs": [
    {
     "data": {
      "text/plain": "<IPython.core.display.Latex object>",
      "text/latex": "В итоге $\\int\\limits_0^1\\sqrt{x}\\cos x^2dx=0.580211$, при $n=8$"
     },
     "metadata": {},
     "output_type": "display_data"
    }
   ],
   "source": [
    "accuracy = 1e-4\n",
    "f = lambda x: math.sqrt(2 - 2 * x) * math.cos(((x - 1) / 2) ** 2) / 4\n",
    "k = 2\n",
    "while True:\n",
    "    q1 = quadrature(f, k)\n",
    "    q2 = quadrature(f, k + 1)\n",
    "    if abs(q1 - q2) < accuracy:\n",
    "        break\n",
    "    k += 1\n",
    "\n",
    "display(Latex(\"В итоге $\\int\\limits_0^1\\sqrt{x}\\cos x^2dx=%.6f$, при $n=%i$\"%(q2, k + 1)))"
   ],
   "metadata": {
    "collapsed": false,
    "pycharm": {
     "name": "#%%\n"
    }
   }
  }
 ],
 "metadata": {
  "kernelspec": {
   "display_name": "Python 3",
   "language": "python",
   "name": "python3"
  },
  "language_info": {
   "codemirror_mode": {
    "name": "ipython",
    "version": 2
   },
   "file_extension": ".py",
   "mimetype": "text/x-python",
   "name": "python",
   "nbconvert_exporter": "python",
   "pygments_lexer": "ipython2",
   "version": "2.7.6"
  }
 },
 "nbformat": 4,
 "nbformat_minor": 0
}