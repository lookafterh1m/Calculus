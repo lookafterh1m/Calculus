{
 "cells": [
  {
   "cell_type": "markdown",
   "metadata": {
    "collapsed": true,
    "pycharm": {
     "name": "#%% md\n"
    }
   },
   "source": [
    "# Квадратурные формулы типа Гаусса\n",
    "### Вычислить интеграл с заданной точностью, предварительно определив число узлов и коэффициенты\n",
    "$\\int\\limits_0^1\\sqrt{x}\\cos x^2dx,\\:\\varepsilon=10^{-4}.$\n",
    "\n",
    "Чтобы промежуток интегрирования стал $[-1;\\:1]$, сделаем замену переменной $x = \\dfrac{1 - t}{2},$ тогда\n",
    "\n",
    "$\\int\\limits_0^1\\sqrt{x}\\cos x^2dx=\\frac{\\sqrt{2}}{4}\\int\\limits_{-1}^1\\sqrt{1 - x}\\cos \\left(\\frac{1 - x}{2}\\right)^2dx.$"
   ]
  },
  {
   "cell_type": "code",
   "execution_count": 17,
   "outputs": [],
   "source": [
    "from IPython.display import display, Latex\n",
    "import math\n",
    "\n",
    "\n",
    "def legendre(n):\n",
    "    if n == 0:\n",
    "        return lambda x: 1\n",
    "    if n == 1:\n",
    "        return lambda x: x\n",
    "    return lambda x: ((2 * n) - 1) * x * legendre(n - 1)(x) / n - (n - 1) * legendre(n - 2)(x) / n\n",
    "\n",
    "\n",
    "def legendre_der(n):\n",
    "    if n == 0:\n",
    "        return lambda x: 0\n",
    "    if n == 1:\n",
    "        return lambda x: 1\n",
    "    return lambda x: (n / (1 - x ** 2)) * (legendre(n - 1)(x) - x * legendre(n)(x))\n",
    "\n",
    "\n",
    "def get_legendre_roots(n, accur=1e-6):\n",
    "    roots = []\n",
    "    pol = legendre(n)\n",
    "    d_pol = legendre_der(n)\n",
    "    for i in range(1, n + 1):\n",
    "        x0 = math.cos(math.pi * (4 * i - 1) / (4 * n + 2))\n",
    "        while True:\n",
    "            x1 = x0 - pol(x0) / d_pol(x0)\n",
    "            if abs(x1 - x0) <= accur:\n",
    "                roots.append(x1)\n",
    "                break\n",
    "            x0 = x1\n",
    "    return roots\n",
    "\n",
    "\n",
    "def quadrature(func, n):\n",
    "    roots = get_legendre_roots(n)\n",
    "    d_pol = legendre_der(n)\n",
    "    quadr = 0\n",
    "    for i in range(1, n + 1):\n",
    "        coeff = 2 / ((1 - roots[i - 1] ** 2) * (d_pol(roots[i - 1]) ** 2))\n",
    "        quadr += coeff * func(roots[i - 1])\n",
    "    return quadr"
   ],
   "metadata": {
    "collapsed": false,
    "pycharm": {
     "name": "#%%\n"
    }
   }
  },
  {
   "cell_type": "code",
   "execution_count": 18,
   "outputs": [
    {
     "data": {
      "text/plain": "<IPython.core.display.Latex object>",
      "text/latex": "В итоге $\\int\\limits_0^1\\sqrt{x}\\cos x^2dx=0.580049$, при $n=24$"
     },
     "metadata": {},
     "output_type": "display_data"
    }
   ],
   "source": [
    "accuracy = 1e-6\n",
    "f = lambda x: math.sqrt(2 - 2 * x) * math.cos(((x - 1) / 2) ** 2) / 4\n",
    "i = 2\n",
    "while True:\n",
    "    q1 = quadrature(f, i)\n",
    "    q2 = quadrature(f, i + 1)\n",
    "    if abs(q1 - q2) < accuracy:\n",
    "        break\n",
    "    i += 1\n",
    "\n",
    "display(Latex(\"В итоге $\\int\\limits_0^1\\sqrt{x}\\cos x^2dx=%.6f$, при $n=%i$\"%(q2, i + 1)))"
   ],
   "metadata": {
    "collapsed": false,
    "pycharm": {
     "name": "#%%\n"
    }
   }
  }
 ],
 "metadata": {
  "kernelspec": {
   "display_name": "Python 3",
   "language": "python",
   "name": "python3"
  },
  "language_info": {
   "codemirror_mode": {
    "name": "ipython",
    "version": 2
   },
   "file_extension": ".py",
   "mimetype": "text/x-python",
   "name": "python",
   "nbconvert_exporter": "python",
   "pygments_lexer": "ipython2",
   "version": "2.7.6"
  }
 },
 "nbformat": 4,
 "nbformat_minor": 0
}