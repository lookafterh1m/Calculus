{
 "cells": [
  {
   "cell_type": "code",
   "execution_count": 6,
   "metadata": {
    "pycharm": {
     "name": "#%%\n"
    }
   },
   "outputs": [],
   "source": [
    "import numpy as np\n",
    "from math import e\n",
    "from IPython.display import display, Latex, Markdown\n",
    "from sympy import symbols, diff, lambdify, exp\n",
    "\n",
    "\n",
    "eps = 0.5e-6  # given accuracy\n",
    "\n",
    "x, k = symbols('x k')\n",
    "f1 = lambdify(x, exp(x ** 2) / (x + 5), \"numpy\")\n",
    "f2 = lambdify(x, exp(x ** 2) / (x + 15), \"numpy\")\n",
    "d2f1 = lambdify(x, diff(exp(x ** 2) / (x + 5), x, 2), \"numpy\")\n",
    "d2f2 = lambdify(x, diff(exp(x ** 2) / (x + 15), x, 2), \"numpy\")\n",
    "d4f1 = lambdify(x, diff(exp(x ** 2) / (x + 5), x, 4), \"numpy\")\n",
    "d4f2 = lambdify(x, diff(exp(x ** 2) / (x + 15), x, 4), \"numpy\")\n",
    "\n",
    "\n",
    "def trapeze(a: float, b: float, n: float, f):\n",
    "    nodes_f = np.array([f(x) for x in np.linspace(a, b, n)])\n",
    "    res = 0\n",
    "    for p in nodes_f:\n",
    "        res += 2 * p\n",
    "    res -= nodes_f[0] + nodes_f[-1]\n",
    "    res *= (b - a) / (2 * n)\n",
    "    return res\n",
    "\n",
    "\n",
    "def trapeze_accuracy(a: float, b: float, n: float, d2f):\n",
    "    arr = np.array([d2f(x) for x in np.linspace(a, b, n)])\n",
    "    maxd2 = arr.max()\n",
    "    return (((b - a) ** 3 / (12 * (n ** 2)))) * maxd2\n",
    "\n",
    "\n",
    "def simpson(a: float, b: float, n: float, f):\n",
    "    nodes_f = np.array([f(x) for x in np.linspace(a, b, n)])\n",
    "    res = 0\n",
    "    for p in nodes_f[::2]:\n",
    "        res += 2 * p\n",
    "    for q in nodes_f[1::2]:\n",
    "        res += 4 * q\n",
    "    res -= nodes_f[0] + nodes_f[-1]\n",
    "    res *= (b - a) / (3 * n)\n",
    "    return res\n",
    "\n",
    "\n",
    "def simpson_accuracy(a: float, b: float, n: float, d4f):\n",
    "    arr = np.array([d4f(x) for x in np.linspace(a, b, n)])\n",
    "    maxd4 = arr.max()\n",
    "    return (((b - a) ** 5 / (180 * (n ** 4)))) * maxd4"
   ]
  },
  {
   "cell_type": "markdown",
   "metadata": {
    "pycharm": {
     "name": "#%% md\n"
    }
   },
   "source": [
    "## ИНТЕРПОЛЯЦИОННЫЕ КВАДРАТУРНЫЕ ФОРМУЛЫ С ФИКСИРОВАННЫМИ И РАВНООТСТОЯЩИМИ УЗЛАМИ\n",
    "Вычислить интегралы по формулам трапеций и Симпсона с заданной точностью,  определяя  шаг  интегрирования  по  оценке  остаточного члена\n",
    "$\\int\\limits_0^3 \\dfrac{e^{x^2}}{k + x}dx$ для $k=5,\\:15$ с точностью до $\\varepsilon=\\dfrac{1}{2}\\cdot10^{-6}$.\n",
    "\n",
    "Общая формула трапеций:\n",
    "\n",
    "$\\int\\limits_a^bf(x)dx\\approx\\dfrac{b-a}{2n}(f(a)+2f(a+h)+\\ldots+2f(a+(n-1)h)+f(b))$.\n",
    "\n",
    "Общая формула Симпсона:\n",
    "\n",
    "$\\int\\limits_a^bf(x)dx\\approx\\dfrac{b-a}{3n}[f(a)+2f(a+2h+\\ldots+f(a+(n-2)h))+\\\\+4(f(a+h)+\\ldots+f(a+(n-1)h))+f(b)]$."
   ]
  },
  {
   "cell_type": "markdown",
   "metadata": {
    "pycharm": {
     "name": "#%% md\n"
    }
   },
   "source": [
    "### Формула трапеций:\n",
    "Будем искать $n$ из расчёта, что $|R_n(f)|\\le\\dfrac{(b-a)^3}{12n^2}\\cdot\\max_{x\\in[a,b]}|f^{''}(x)|$"
   ]
  },
  {
   "cell_type": "code",
   "execution_count": 7,
   "metadata": {
    "pycharm": {
     "name": "#%%\n"
    },
    "scrolled": false
   },
   "outputs": [
    {
     "data": {
      "text/plain": "<IPython.core.display.Latex object>",
      "text/latex": "$Случай\\:k=5:$"
     },
     "metadata": {},
     "output_type": "display_data"
    },
    {
     "data": {
      "text/plain": "<IPython.core.display.Latex object>",
      "text/latex": "$\\int\\limits_0^3 \\dfrac{e^{x^2}}{5 + x}dx\\approx 81.1473455,\\:при\\:n=408055;$"
     },
     "metadata": {},
     "output_type": "display_data"
    },
    {
     "data": {
      "text/plain": "<IPython.core.display.Latex object>",
      "text/latex": "$Случай\\:k=15:$"
     },
     "metadata": {},
     "output_type": "display_data"
    },
    {
     "data": {
      "text/plain": "<IPython.core.display.Latex object>",
      "text/latex": "$\\int\\limits_0^3 \\dfrac{e^{x^2}}{15 + x}dx\\approx\\:81.1472493,\\:при\\:n=275030.$"
     },
     "metadata": {},
     "output_type": "display_data"
    }
   ],
   "source": [
    "a = 0\n",
    "b = 3\n",
    "n = 408054  # 408055\n",
    "while trapeze_accuracy(a, b, n, d2f1) >= eps:\n",
    "    n += 1\n",
    "display(Latex(\"$Случай\\:k=5:$\"))\n",
    "display(Latex(\"$\\int\\limits_0^3 \\dfrac{e^{x^2}}{5 + x}dx\\\\approx %.7f,\"\n",
    "              \"\\:при\\:n=%i;$\"%(trapeze(a, b, n, f2), n)))\n",
    "\n",
    "n = 275029  # 275030\n",
    "while trapeze_accuracy(a, b, n, d2f2) >= eps:\n",
    "    n += 1\n",
    "display(Latex(\"$Случай\\:k=15:$\"))\n",
    "display(Latex(\"$\\int\\limits_0^3 \\dfrac{e^{x^2}}{15 + x}dx\\\\approx\\:%.7f,\"\n",
    "              \"\\:при\\:n=%i.$\"%(trapeze(a, b, n, f2), n)))"
   ]
  },
  {
   "cell_type": "markdown",
   "source": [
    "### Формула симпсона:\n",
    "Будем искать $n$ из расчёта, что $|R_n(f)|\\le\\dfrac{(b-a)^5}{180n^4}\\cdot\\max_{x\\in[a,b]}|f^{(IV)}(x)|$"
   ],
   "metadata": {
    "collapsed": false
   }
  },
  {
   "cell_type": "code",
   "execution_count": 8,
   "outputs": [
    {
     "data": {
      "text/plain": "<IPython.core.display.Latex object>",
      "text/latex": "$Случай\\:k=5:$"
     },
     "metadata": {},
     "output_type": "display_data"
    },
    {
     "data": {
      "text/plain": "<IPython.core.display.Latex object>",
      "text/latex": "$\\int\\limits_0^3 \\dfrac{e^{x^2}}{5 + x}dx\\approx81.0097532,\\:при\\:n=563;$"
     },
     "metadata": {},
     "output_type": "display_data"
    },
    {
     "data": {
      "text/plain": "<IPython.core.display.Latex object>",
      "text/latex": "$Случай\\:k=15:$"
     },
     "metadata": {},
     "output_type": "display_data"
    },
    {
     "data": {
      "text/plain": "<IPython.core.display.Latex object>",
      "text/latex": "$\\int\\limits_0^3 \\dfrac{e^{x^2}}{15 + x}dx\\approx80.9813234,\\:при\\:n=462.$"
     },
     "metadata": {},
     "output_type": "display_data"
    }
   ],
   "source": [
    "a = 0\n",
    "b = 3\n",
    "n = 562  # 563\n",
    "while simpson_accuracy(a, b, n, d2f1) >= eps:\n",
    "    n += 1\n",
    "display(Latex(\"$Случай\\:k=5:$\"))\n",
    "display(Latex(\"$\\int\\limits_0^3 \\dfrac{e^{x^2}}{5 + x}dx\\\\approx%.7f,\"\n",
    "              \"\\:при\\:n=%i;$\"%(trapeze(a, b, n, f2), n)))\n",
    "\n",
    "n = 461  # 462\n",
    "while simpson_accuracy(a, b, n, d2f2) >= eps:\n",
    "    n += 1\n",
    "display(Latex(\"$Случай\\:k=15:$\"))\n",
    "display(Latex(\"$\\int\\limits_0^3 \\dfrac{e^{x^2}}{15 + x}dx\\\\approx%.7f,\"\n",
    "              \"\\:при\\:n=%i.$\"%(trapeze(a, b, n, f2), n)))"
   ],
   "metadata": {
    "collapsed": false,
    "pycharm": {
     "name": "#%%\n"
    }
   }
  }
 ],
 "metadata": {
  "kernelspec": {
   "display_name": "Python 3",
   "language": "python",
   "name": "python3"
  },
  "language_info": {
   "codemirror_mode": {
    "name": "ipython",
    "version": 3
   },
   "file_extension": ".py",
   "mimetype": "text/x-python",
   "name": "python",
   "nbconvert_exporter": "python",
   "pygments_lexer": "ipython3",
   "version": "3.8.6"
  }
 },
 "nbformat": 4,
 "nbformat_minor": 1
}