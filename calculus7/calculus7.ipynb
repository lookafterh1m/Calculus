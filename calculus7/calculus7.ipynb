{
 "cells": [
  {
   "cell_type": "code",
   "execution_count": 1,
   "metadata": {
    "pycharm": {
     "name": "#%%\n"
    }
   },
   "outputs": [],
   "source": [
    "from math import exp\n",
    "from IPython.display import display, Latex\n",
    "\n",
    "\n",
    "eps = 5e-7  # given accuracy\n",
    "\n",
    "f1 = lambda x: exp(x ** 2) / (x + 5)\n",
    "f2 = lambda x: exp(x ** 2) / (x + 15)\n",
    "\n",
    "\n",
    "def gen_f(a: float, b: float, n: float, f):\n",
    "    h = abs(b - a) / n\n",
    "    for i in range(n + 1):\n",
    "        yield f(a + i * h)\n",
    "\n",
    "\n",
    "def trapeze(a: float, b: float, n: float, f):\n",
    "    g = gen_f(a, b, n, f)\n",
    "    res = 0\n",
    "    for p in g:\n",
    "        res += 2 * p\n",
    "    res -= f(a) + f(b)\n",
    "    res *= (b - a) / (2 * n)\n",
    "    return res\n",
    "\n",
    "\n",
    "def simpson(a: float, b: float, n: float, f):\n",
    "    g = gen_f(a, b, n, f)\n",
    "    res = 0\n",
    "    c = True\n",
    "    for p in g:\n",
    "        if c:\n",
    "            res += 2 * p\n",
    "            c = False\n",
    "        else:\n",
    "            res += 4 * p\n",
    "            c = True\n",
    "    res -= f(a) + f(b)\n",
    "    res *= (b - a) / (3 * n)\n",
    "    return res"
   ]
  },
  {
   "cell_type": "markdown",
   "metadata": {
    "pycharm": {
     "name": "#%% md\n"
    }
   },
   "source": [
    "## ИНТЕРПОЛЯЦИОННЫЕ КВАДРАТУРНЫЕ ФОРМУЛЫ С ФИКСИРОВАННЫМИ И РАВНООТСТОЯЩИМИ УЗЛАМИ\n",
    "Вычислить интегралы по формулам трапеций и Симпсона с заданной точностью,  определяя  шаг  интегрирования  по  оценке  остаточного члена\n",
    "$\\int\\limits_0^3 \\dfrac{e^{x^2}}{k + x}dx$ для $k=5,\\:15$ с точностью до $\\varepsilon=\\dfrac{1}{2}\\cdot10^{-6}.$\n",
    "\n",
    "Общая формула трапеций:\n",
    "\n",
    "$\\int\\limits_a^bf(x)dx\\approx\\dfrac{b-a}{2n}(f(a)+2f(a+h)+\\ldots+2f(a+(n-1)h)+f(b)).$\n",
    "\n",
    "Общая формула Симпсона:\n",
    "\n",
    "$\\int\\limits_a^bf(x)dx\\approx\\dfrac{b-a}{3n}[f(a)+2f(a+2h+\\ldots+f(a+(n-2)h))+\\\\+4(f(a+h)+\\ldots+f(a+(n-1)h))+f(b)].$"
   ]
  },
  {
   "cell_type": "markdown",
   "metadata": {
    "pycharm": {
     "name": "#%% md\n"
    }
   },
   "source": [
    "### Формула трапеций:\n",
    "Будем искать $n$, пока не будет достигнута необходимая точность $\\varepsilon$: будем увеличивать $n$ в $2$ раза и сравнивать с предыдущим вычисленным значением, если они отличаются не более чем на $\\varepsilon$, то возвращаем результат и $n$. В качестве начального значения выберем $n_0=3.$"
   ]
  },
  {
   "cell_type": "code",
   "execution_count": 2,
   "metadata": {
    "pycharm": {
     "name": "#%%\n"
    },
    "scrolled": false
   },
   "outputs": [
    {
     "data": {
      "text/plain": "<IPython.core.display.Latex object>",
      "text/latex": "$Случай\\:k=5:$"
     },
     "metadata": {},
     "output_type": "display_data"
    },
    {
     "data": {
      "text/plain": "<IPython.core.display.Latex object>",
      "text/latex": "$\\int\\limits_0^3 \\dfrac{e^{x^2}}{5 + x}dx\\approx 185.262079465,\\:при\\:n=196608;$"
     },
     "metadata": {},
     "output_type": "display_data"
    },
    {
     "data": {
      "text/plain": "<IPython.core.display.Latex object>",
      "text/latex": "$Случай\\:k=15:$"
     },
     "metadata": {},
     "output_type": "display_data"
    },
    {
     "data": {
      "text/plain": "<IPython.core.display.Latex object>",
      "text/latex": "$\\int\\limits_0^3 \\dfrac{e^{x^2}}{15 + x}dx\\approx\\:81.147544376,\\:при\\:n=196608.$"
     },
     "metadata": {},
     "output_type": "display_data"
    }
   ],
   "source": [
    "a = 0\n",
    "b = 3\n",
    "\n",
    "n = 3\n",
    "t1 = trapeze(a, b, n, f1)\n",
    "t2 = trapeze(a, b, n * 2, f1)\n",
    "while abs(t1 - t2) >= eps:\n",
    "    n *= 2\n",
    "    t1 = trapeze(a, b, n, f1)\n",
    "    t2 = trapeze(a, b, n * 2, f1)\n",
    "display(Latex(\"$Случай\\:k=5:$\"))\n",
    "display(Latex(\"$\\int\\limits_0^3 \\dfrac{e^{x^2}}{5 + x}dx\\\\approx %.9f,\"\n",
    "              \"\\:при\\:n=%i;$\"%(t2, n * 2)))\n",
    "\n",
    "\n",
    "n = 3\n",
    "t1 = trapeze(a, b, n, f2)\n",
    "t2 = trapeze(a, b, n * 2, f2)\n",
    "while abs(t1 - t2) >= eps:\n",
    "    n *= 2\n",
    "    t1 = trapeze(a, b, n, f2)\n",
    "    t2 = trapeze(a, b, n * 2, f2)\n",
    "display(Latex(\"$Случай\\:k=15:$\"))\n",
    "display(Latex(\"$\\int\\limits_0^3 \\dfrac{e^{x^2}}{15 + x}dx\\\\approx\\:%.9f,\"\n",
    "              \"\\:при\\:n=%i.$\"%(t2, n * 2)))"
   ]
  },
  {
   "cell_type": "markdown",
   "source": [
    "### Формула Симпсона:\n",
    "Точность $\\varepsilon$ достигается так же, как и в случае с формулой трапеций. В качестве начального значения выберем $n_0=2.$"
   ],
   "metadata": {
    "collapsed": false
   }
  },
  {
   "cell_type": "code",
   "execution_count": 3,
   "metadata": {
    "pycharm": {
     "name": "#%%\n"
    }
   },
   "outputs": [
    {
     "data": {
      "text/plain": "<IPython.core.display.Latex object>",
      "text/latex": "$Случай\\:k=5:$"
     },
     "metadata": {},
     "output_type": "display_data"
    },
    {
     "data": {
      "text/plain": "<IPython.core.display.Latex object>",
      "text/latex": "$\\int\\limits_0^3 \\dfrac{e^{x^2}}{5 + x}dx\\approx 185.262079356,\\:при\\:n=2048;$"
     },
     "metadata": {},
     "output_type": "display_data"
    },
    {
     "data": {
      "text/plain": "<IPython.core.display.Latex object>",
      "text/latex": "$Случай\\:k=15:$"
     },
     "metadata": {},
     "output_type": "display_data"
    },
    {
     "data": {
      "text/plain": "<IPython.core.display.Latex object>",
      "text/latex": "$\\int\\limits_0^3 \\dfrac{e^{x^2}}{15 + x}dx\\approx\\:81.147544327,\\:при\\:n=2048.$"
     },
     "metadata": {},
     "output_type": "display_data"
    }
   ],
   "source": [
    "a = 0\n",
    "b = 3\n",
    "\n",
    "n = 2\n",
    "t1 = simpson(a, b, n, f1)\n",
    "t2 = simpson(a, b, n + 2, f1)\n",
    "while abs(t1 - t2) >= eps:\n",
    "    n *= 2\n",
    "    t1 = simpson(a, b, n, f1)\n",
    "    t2 = simpson(a, b, n * 2, f1)\n",
    "display(Latex(\"$Случай\\:k=5:$\"))\n",
    "display(Latex(\"$\\int\\limits_0^3 \\dfrac{e^{x^2}}{5 + x}dx\\\\approx %.9f,\"\n",
    "              \"\\:при\\:n=%i;$\"%(t2, n * 2)))\n",
    "\n",
    "n = 2\n",
    "t1 = simpson(a, b, n, f2)\n",
    "t2 = simpson(a, b, n + 2, f2)\n",
    "while abs(t1 - t2) >= eps:\n",
    "    n *= 2\n",
    "    t1 = simpson(a, b, n, f2)\n",
    "    t2 = simpson(a, b, n * 2, f2)\n",
    "display(Latex(\"$Случай\\:k=15:$\"))\n",
    "display(Latex(\"$\\int\\limits_0^3 \\dfrac{e^{x^2}}{15 + x}dx\\\\approx\\:%.9f,\"\n",
    "              \"\\:при\\:n=%i.$\"%(t2, n * 2)))"
   ]
  }
 ],
 "metadata": {
  "kernelspec": {
   "display_name": "Python 3",
   "language": "python",
   "name": "python3"
  },
  "language_info": {
   "codemirror_mode": {
    "name": "ipython",
    "version": 3
   },
   "file_extension": ".py",
   "mimetype": "text/x-python",
   "name": "python",
   "nbconvert_exporter": "python",
   "pygments_lexer": "ipython3",
   "version": "3.8.6"
  }
 },
 "nbformat": 4,
 "nbformat_minor": 1
}