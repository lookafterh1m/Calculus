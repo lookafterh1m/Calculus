{
 "cells": [
  {
   "cell_type": "markdown",
   "source": [
    "# Интерполирование с равноудалёнными узлами\n"
   ],
   "metadata": {
    "collapsed": false,
    "pycharm": {
     "name": "#%% md\n"
    }
   }
  },
  {
   "cell_type": "code",
   "execution_count": 269,
   "outputs": [],
   "source": [
    "import matplotlib.pyplot as plt\n",
    "import numpy as np\n",
    "from numpy import sinh\n",
    "from IPython.display import display, Latex\n",
    "\n",
    "\n",
    "def newton_polynomial(x: float, nodes_x: list, nodes_f: list) -> float:\n",
    "    if len(nodes_x) != len(nodes_f):\n",
    "        return None\n",
    "\n",
    "    h = nodes_x[1] - nodes_x[0]  # step between equidistant interpolation nodes\n",
    "    polynomial = 0\n",
    "\n",
    "    if x < nodes_x[round(len(nodes_x) / 1.5)]:  # checks if x is at the beginning of the table\n",
    "        t = (x - nodes_x[0]) / h\n",
    "        factor = 1\n",
    "        for i in range(len(nodes_x)):\n",
    "            polynomial += finite_differences(0, nodes_f, order=i) * factor\n",
    "            factor *= (t - i) / (i + 1)\n",
    "    elif x < nodes_x[round(len(nodes_x) / 1.5)]:  # checks if x is at the center of the table\n",
    "        n = 0\n",
    "        for i in range(int(len(nodes_x) / 3), len(nodes_x)):  # finding n -- closest node's number\n",
    "            if nodes_x[i] > x:\n",
    "                n = i if nodes_x[i] - x < x - nodes_x[i - 1] else i - 1\n",
    "                break\n",
    "        t = (x - nodes_x[n]) / h\n",
    "        factor = 1\n",
    "        for i in range(len(nodes_x)):\n",
    "            k = round(i / 2)\n",
    "            polynomial += finite_differences(n - k, nodes_f, order=i) * factor\n",
    "            factor *= t + k if i % 2 == 0 else t - k\n",
    "            factor /= i + 1\n",
    "    else:  # x is at the end of the table\n",
    "        t = (x - nodes_x[-1]) / h\n",
    "        n = len(nodes_x)\n",
    "        factor = 1\n",
    "        for i in range(n):\n",
    "            polynomial += finite_differences(n - i - 1, nodes_f, order=i) * factor\n",
    "            factor *= (t + i) / (i + 1)\n",
    "\n",
    "    return polynomial\n",
    "\n",
    "\n",
    "def finite_differences(node_number: int, nodes_y: list, order=1) -> float:\n",
    "    if order == 0:\n",
    "        return nodes_y[node_number]  # if order of finite difference equals 0 => return function value\n",
    "    if order == 1:\n",
    "        return nodes_y[node_number + 1] - nodes_y[node_number]\n",
    "    return finite_differences(node_number + 1, nodes_y, order=order - 1) \\\n",
    "           - finite_differences(node_number, nodes_y, order=order - 1)\n"
   ],
   "metadata": {
    "collapsed": false,
    "pycharm": {
     "name": "#%%\n"
    }
   }
  },
  {
   "cell_type": "code",
   "execution_count": 270,
   "outputs": [
    {
     "data": {
      "text/plain": "<IPython.core.display.Latex object>",
      "text/latex": "Найти значения $sh(x)$ для значений аргумента:"
     },
     "metadata": {},
     "output_type": "display_data"
    },
    {
     "data": {
      "text/plain": "<IPython.core.display.Latex object>",
      "text/latex": "1) 1.01, 1.02, 1.03, 1.11, 1.12, 1.13"
     },
     "metadata": {},
     "output_type": "display_data"
    },
    {
     "data": {
      "text/plain": "<IPython.core.display.Latex object>",
      "text/latex": "2) 1.41, 1.42, 1.43, 1.44"
     },
     "metadata": {},
     "output_type": "display_data"
    },
    {
     "data": {
      "text/plain": "<IPython.core.display.Latex object>",
      "text/latex": "3) 1.45, 1.46, 1.75, 1.73, 1.77, 1.78, 1.79"
     },
     "metadata": {},
     "output_type": "display_data"
    },
    {
     "data": {
      "text/plain": "<IPython.core.display.Latex object>",
      "text/latex": "При этом дана таблица значений $x_i$ и $f_i=f(x_i)$:"
     },
     "metadata": {},
     "output_type": "display_data"
    },
    {
     "data": {
      "text/plain": "<IPython.core.display.Latex object>",
      "text/latex": "$i=0,\\ldots,8;$"
     },
     "metadata": {},
     "output_type": "display_data"
    },
    {
     "data": {
      "text/plain": "<IPython.core.display.Latex object>",
      "text/latex": "$x_i\\in\\{1.0,\\, 1.1,\\, 1.2,\\, 1.3,\\, 1.4,\\, 1.5,\\, 1.6,\\, 1.7,\\, 1.8\\};$"
     },
     "metadata": {},
     "output_type": "display_data"
    },
    {
     "data": {
      "text/plain": "<IPython.core.display.Latex object>",
      "text/latex": "$f_i\\in\\{1.17520,\\, 1.33565,\\, 1.50946,\\, 1.69838,\\, 1.90430,\\,            2.12928,\\, 2.37557,\\, 2.64563,\\, 2.94217\\};$"
     },
     "metadata": {},
     "output_type": "display_data"
    },
    {
     "data": {
      "text/plain": "<IPython.core.display.Latex object>",
      "text/latex": "Ответы:"
     },
     "metadata": {},
     "output_type": "display_data"
    },
    {
     "data": {
      "text/plain": "<IPython.core.display.Latex object>",
      "text/latex": "1."
     },
     "metadata": {},
     "output_type": "display_data"
    },
    {
     "data": {
      "text/plain": "<IPython.core.display.Latex object>",
      "text/latex": "$P_9 (1.01) = 1.1907$"
     },
     "metadata": {},
     "output_type": "display_data"
    },
    {
     "data": {
      "text/plain": "<IPython.core.display.Latex object>",
      "text/latex": "$P_9 (1.02) = 1.2063$"
     },
     "metadata": {},
     "output_type": "display_data"
    },
    {
     "data": {
      "text/plain": "<IPython.core.display.Latex object>",
      "text/latex": "$P_9 (1.03) = 1.2220$"
     },
     "metadata": {},
     "output_type": "display_data"
    },
    {
     "data": {
      "text/plain": "<IPython.core.display.Latex object>",
      "text/latex": "$P_9 (1.11) = 1.3524$"
     },
     "metadata": {},
     "output_type": "display_data"
    },
    {
     "data": {
      "text/plain": "<IPython.core.display.Latex object>",
      "text/latex": "$P_9 (1.12) = 1.3693$"
     },
     "metadata": {},
     "output_type": "display_data"
    },
    {
     "data": {
      "text/plain": "<IPython.core.display.Latex object>",
      "text/latex": "$P_9 (1.13) = 1.3863$"
     },
     "metadata": {},
     "output_type": "display_data"
    },
    {
     "data": {
      "text/plain": "<IPython.core.display.Latex object>",
      "text/latex": "2."
     },
     "metadata": {},
     "output_type": "display_data"
    },
    {
     "data": {
      "text/plain": "<IPython.core.display.Latex object>",
      "text/latex": "$P_9 (1.41) = 1.9259$"
     },
     "metadata": {},
     "output_type": "display_data"
    },
    {
     "data": {
      "text/plain": "<IPython.core.display.Latex object>",
      "text/latex": "$P_9 (1.42) = 1.9477$"
     },
     "metadata": {},
     "output_type": "display_data"
    },
    {
     "data": {
      "text/plain": "<IPython.core.display.Latex object>",
      "text/latex": "$P_9 (1.43) = 1.9697$"
     },
     "metadata": {},
     "output_type": "display_data"
    },
    {
     "data": {
      "text/plain": "<IPython.core.display.Latex object>",
      "text/latex": "$P_9 (1.44) = 1.9919$"
     },
     "metadata": {},
     "output_type": "display_data"
    },
    {
     "data": {
      "text/plain": "<IPython.core.display.Latex object>",
      "text/latex": "3."
     },
     "metadata": {},
     "output_type": "display_data"
    },
    {
     "data": {
      "text/plain": "<IPython.core.display.Latex object>",
      "text/latex": "$P_9 (1.45) = 2.0143$"
     },
     "metadata": {},
     "output_type": "display_data"
    },
    {
     "data": {
      "text/plain": "<IPython.core.display.Latex object>",
      "text/latex": "$P_9 (1.46) = 2.0369$"
     },
     "metadata": {},
     "output_type": "display_data"
    },
    {
     "data": {
      "text/plain": "<IPython.core.display.Latex object>",
      "text/latex": "$P_9 (1.75) = 2.7904$"
     },
     "metadata": {},
     "output_type": "display_data"
    },
    {
     "data": {
      "text/plain": "<IPython.core.display.Latex object>",
      "text/latex": "$P_9 (1.73) = 2.7317$"
     },
     "metadata": {},
     "output_type": "display_data"
    },
    {
     "data": {
      "text/plain": "<IPython.core.display.Latex object>",
      "text/latex": "$P_9 (1.77) = 2.8503$"
     },
     "metadata": {},
     "output_type": "display_data"
    },
    {
     "data": {
      "text/plain": "<IPython.core.display.Latex object>",
      "text/latex": "$P_9 (1.78) = 2.8806$"
     },
     "metadata": {},
     "output_type": "display_data"
    },
    {
     "data": {
      "text/plain": "<IPython.core.display.Latex object>",
      "text/latex": "$P_9 (1.79) = 2.9112$"
     },
     "metadata": {},
     "output_type": "display_data"
    },
    {
     "data": {
      "text/plain": "<matplotlib.legend.Legend at 0x2add1510a60>"
     },
     "execution_count": 270,
     "metadata": {},
     "output_type": "execute_result"
    },
    {
     "data": {
      "text/plain": "<Figure size 576x396 with 1 Axes>",
      "image/png": "[encoded data removed]"
     },
     "metadata": {},
     "output_type": "display_data"
    }
   ],
   "source": [
    "x_nodes = tuple(x / 10 for x in range(10,19))\n",
    "f_nodes = (1.17520, 1.33565, 1.50946, 1.69838, 1.90430,\n",
    "           2.12928, 2.37557, 2.64563, 2.94217)\n",
    "x = (1.01, 1.02, 1.03, 1.11, 1.12, 1.13, 1.41, 1.42, 1.43, 1.44,\n",
    "     1.45, 1.46, 1.75, 1.73, 1.77, 1.78, 1.79)\n",
    "\n",
    "\n",
    "display(Latex(\"Найти значения $sh(x)$ для значений аргумента:\"))\n",
    "display(Latex(\"1) 1.01, 1.02, 1.03, 1.11, 1.12, 1.13\"))\n",
    "display(Latex(\"2) 1.41, 1.42, 1.43, 1.44\"))\n",
    "display(Latex(\"3) 1.45, 1.46, 1.75, 1.73, 1.77, 1.78, 1.79\"))\n",
    "display(Latex(\"При этом дана таблица значений $x_i$ и $f_i=f(x_i)$:\"))\n",
    "display(Latex(\"$i=0,\\ldots,8;$\"))\n",
    "display(Latex(\"$x_i\\in\\{1.0,\\, 1.1,\\, 1.2,\\, 1.3,\\, 1.4,\\, 1.5,\\, 1.6,\\, 1.7,\\, 1.8\\};$\"))\n",
    "display(Latex(\"$f_i\\in\\{1.17520,\\, 1.33565,\\, 1.50946,\\, 1.69838,\\, 1.90430,\\, \\\n",
    "           2.12928,\\, 2.37557,\\, 2.64563,\\, 2.94217\\};$\"))\n",
    "\n",
    "display(Latex(\"Ответы:\"))\n",
    "\n",
    "section = 1\n",
    "for i, q in enumerate(x):\n",
    "    if i == 0 or i == 6 or i == 10:\n",
    "        display(Latex(f\"{section}.\"))\n",
    "        section += 1\n",
    "    display(Latex(f\"$P_{len(x_nodes)} ({q}) = %.4f$\"%\n",
    "                  newton_polynomial(q, x_nodes, f_nodes)))\n",
    "\n",
    "\n",
    "\n",
    "l = np.linspace(1, 1.9)\n",
    "fig, ax = plt.subplots()  # Create a figure and an axes.\n",
    "plt.style.use('seaborn-poster')\n",
    "ax.plot(l, sinh(l), label=\"$sh(x)$\")# Plot some data on the axes.\n",
    "ax.set_xlabel('x label')\n",
    "ax.set_ylabel('y label')\n",
    "ax.set_title(\"$y=sh(x)$\")\n",
    "ax.legend()"
   ],
   "metadata": {
    "collapsed": false,
    "pycharm": {
     "name": "#%%\n"
    }
   }
  }
 ],
 "metadata": {
  "kernelspec": {
   "display_name": "Python 3",
   "language": "python",
   "name": "python3"
  },
  "language_info": {
   "codemirror_mode": {
    "name": "ipython",
    "version": 2
   },
   "file_extension": ".py",
   "mimetype": "text/x-python",
   "name": "python",
   "nbconvert_exporter": "python",
   "pygments_lexer": "ipython2",
   "version": "2.7.6"
  }
 },
 "nbformat": 4,
 "nbformat_minor": 0
}