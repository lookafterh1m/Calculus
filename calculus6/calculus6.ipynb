{
 "cells": [
  {
   "cell_type": "code",
   "execution_count": 70,
   "outputs": [],
   "source": [
    "# to export to latex use \"jupyter nbconvert --to latex file.ipynb\"\n",
    "\n",
    "from IPython.display import display, Latex, Markdown\n",
    "\n",
    "\n",
    "def func_Runge(x: float): return round((1 + x ** 2) ** -1, 3)\n",
    "\n",
    "\n",
    "def get_default_nodes(n: int):\n",
    "    h = 2 / n\n",
    "    nodes_x = [round(-1 + k * h, 3) for k in range(n + 1)]\n",
    "    nodes_f = [func_Runge(x) for x in nodes_x]\n",
    "    return nodes_x, nodes_f\n",
    "\n",
    "\n",
    "def d2f(x): return (6 * pow(x, 2) - 2) / pow(pow(x, 2) + 1, 3)\n",
    "\n",
    "def df(x): return -2 * x / pow(1 + x ** 2, 2)\n",
    "\n",
    "\n",
    "def phi1(t): return ((1 - t) ** 2) * (1 + 2 * t)\n",
    "\n",
    "\n",
    "def phi2(t): return (t ** 2) * (3 - 2 * t)\n",
    "\n",
    "\n",
    "def phi3(t): return t * (1 - t) ** 2\n",
    "\n",
    "\n",
    "def phi4(t): return (t ** 2) * (t - 1)\n",
    "\n",
    "\n",
    "def tma(A: list, B: list, C: list, F: list) -> list:\n",
    "    alpha = [-C[0] / B[0]]\n",
    "    beta = [F[0] / B[0]]\n",
    "\n",
    "    for a, b, c, f in zip(A[1:], B[1:], C[1:], F[1:]):\n",
    "        beta.append((f - a * beta[-1]) / (a * alpha[-1] + b))\n",
    "        alpha.append(-c / (a * alpha[-1] + b))\n",
    "\n",
    "    X = [(F[-1] - A[-1] * beta[-1]) / (B[-1] + A[-1] * alpha[-1])]\n",
    "    alpha.reverse()\n",
    "    beta.reverse()\n",
    "\n",
    "    for a, b in zip(alpha[1:], beta[1:]):  # possible mistake\n",
    "        X.append(a * X[-1] + b)\n",
    "\n",
    "    X.reverse()\n",
    "    return X\n",
    "\n",
    "\n",
    "def spline1I(x: float, nodes_x: list, nodes_f: list) -> float:  # 5.a)\n",
    "    l = 0\n",
    "    for i in range(len(nodes_x) - 1):\n",
    "        if nodes_x[i] < x <= nodes_x[i + 1]:\n",
    "            l = i\n",
    "            break\n",
    "\n",
    "    h = [nodes_x[i + 1] - nodes_x[i] for i in range(len(nodes_x) - 1)]\n",
    "    mu = [h[i-1] * pow(h[i-1] + h[i], -1) for i in range(1, len(h))]\n",
    "    lmbda = [1 - x for x in mu]\n",
    "\n",
    "    c = [3 * (mu[i] * ((nodes_f[i + 1] - nodes_f[i]) / h[i]))\n",
    "         + lmbda[i] * (nodes_f[i] - nodes_f[i - 1]) / h[i - 1]\n",
    "         for i in range(1, len(h) - 1)]\n",
    "\n",
    "    mu.insert(0, 1)\n",
    "    lmbda.append(0)\n",
    "    c.insert(0, 2 * df(nodes_x[0]))\n",
    "    c.append(2 * df(nodes_x[-1]))\n",
    "    m = tma(lmbda, [2 for i in range(len(c))], mu, c)\n",
    "    t = (x - nodes_x[l]) / h[l]\n",
    "    m.insert(0, (c[0] - mu[0] * m[0]) / 2)\n",
    "\n",
    "    return phi1(t) * nodes_f[l] + phi2(t) * nodes_f[l + 1] \\\n",
    "           + m[l] * h[l] * phi3(t) + \\\n",
    "           m[l + 1] * h[l] * phi4(t)\n",
    "\n",
    "\n",
    "def spline1II(x: float, nodes_x: list, nodes_f: list) -> float:  # 5.б)\n",
    "    l = 0\n",
    "    for i in range(len(nodes_x) - 1):\n",
    "        if nodes_x[i] < x <= nodes_x[i + 1]:\n",
    "            l = i\n",
    "            break\n",
    "\n",
    "    h = [nodes_x[i + 1] - nodes_x[i] for i in range(len(nodes_x) - 1)]\n",
    "    mu = [h[i-1] * pow(h[i-1] + h[i], -1) for i in range(1, len(h))]\n",
    "    lmbda = [1 - x for x in mu]\n",
    "\n",
    "    c = [3 * (mu[i] * ((nodes_f[i + 1] - nodes_f[i]) / h[i]))\n",
    "         + lmbda[i] * (nodes_f[i] - nodes_f[i - 1]) / h[i - 1]\n",
    "         for i in range(1, len(h) - 1)]\n",
    "\n",
    "    mu.insert(0, 1)\n",
    "    lmbda.append(1)\n",
    "    c.insert(0, 3 * (nodes_f[1] - nodes_f[0]) / h[0] - h[0]\n",
    "             * d2f(nodes_x[0]) / 2)\n",
    "    c.append(3 * (nodes_f[-1] - nodes_f[-2]) / h[-2] - h[-2]\n",
    "             * d2f(nodes_x[-1]) / 2)\n",
    "    m = tma(lmbda, [2 for _ in range(len(c))], mu, c)\n",
    "    t = (x - nodes_x[l]) / h[l]\n",
    "    m.insert(0, (c[0] - mu[0] * m[0]) / 2)\n",
    "\n",
    "    return phi1(t) * nodes_f[l] + phi2(t) * nodes_f[l + 1] \\\n",
    "           + m[l] * h[l] * phi3(t) + \\\n",
    "           m[l + 1] * h[l] * phi4(t)\n",
    "\n",
    "\n",
    "def spline2I(x: float, nodes_x: list, nodes_f: list) -> float:  # 6.а)\n",
    "    l = 0\n",
    "    for i in range(len(nodes_x) - 1):\n",
    "        if nodes_x[i] < x <= nodes_x[i + 1]:\n",
    "            l = i\n",
    "            break\n",
    "\n",
    "    h = [nodes_x[i + 1] - nodes_x[i] for i in range(len(nodes_x) - 1)]\n",
    "    mu = [h[i-1] * pow(h[i-1] + h[i], -1) for i in range(1, len(h))]\n",
    "    lmbda = [1 - x for x in mu]\n",
    "\n",
    "    d = [(6 / (h[i - 1] + h[i])) * ((nodes_f[i + 1] - nodes_f[i]) / h[i])\n",
    "         -  (nodes_f[i] - nodes_f[i - 1])/ h[i - 1]\n",
    "         for i in range(1, len(h) - 1)]\n",
    "\n",
    "    lmbda.insert(0, 1)\n",
    "    mu.append(1)\n",
    "    d.insert(0, 6 * ((nodes_f[1] - nodes_f[0]) / h[0] - df(nodes_x[0])) / h[0])\n",
    "    d.append(6 * (df(nodes_x[-1]) - (nodes_f[-1] - nodes_f[-2]) / h[-2]) / h[-2])\n",
    "    M = tma(lmbda, [2 for _ in range(len(d))], mu, d)\n",
    "    t = (x - nodes_x[l]) / h[l]\n",
    "    M.insert(0, (d[0] - lmbda[0] * M[0]) / 2)\n",
    "\n",
    "    return (1 - t) * nodes_f[l] + t * nodes_f[l + 1]\\\n",
    "           - (pow(h[l], 2) * t * (1 - t))\\\n",
    "           * ((2 - t) * M[l] + (1 + t) * M[l + 1])\n",
    "\n",
    "\n",
    "def spline2II(x: float, nodes_x: list, nodes_f: list) -> float:  # 6.б)\n",
    "    l = 0\n",
    "    for i in range(len(nodes_x) - 1):\n",
    "        if nodes_x[i] < x <= nodes_x[i + 1]:\n",
    "            l = i\n",
    "            break\n",
    "\n",
    "    h = [nodes_x[i + 1] - nodes_x[i] for i in range(len(nodes_x) - 1)]\n",
    "    mu = [h[i-1] * pow(h[i-1] + h[i], -1) for i in range(1, len(h))]\n",
    "    lmbda = [1 - x for x in mu]\n",
    "\n",
    "    d = [(6 / (h[i - 1] + h[i])) * ((nodes_f[i + 1] - nodes_f[i]) / h[i])\n",
    "         -  (nodes_f[i] - nodes_f[i - 1])/ h[i - 1]\n",
    "         for i in range(1, len(h) - 1)]\n",
    "\n",
    "    lmbda.insert(0, 0)\n",
    "    mu.append(0)\n",
    "    d.insert(0, 2 * d2f(nodes_x[0]))\n",
    "    d.append(2 * d2f(nodes_x[-1]))\n",
    "    M = tma(lmbda, [2 for _ in range(len(d))], mu, d)\n",
    "    t = (x - nodes_x[l]) / h[l]\n",
    "    M.insert(0, (d[0] - lmbda[0] * M[0]) / 2)\n",
    "\n",
    "    return (1 - t) * nodes_f[l] + t * nodes_f[l + 1] \\\n",
    "           - (pow(h[l], 2) * t * (1 - t)) * ((2 - t) * M[l] + (1 + t) * M[l + 1])\n"
   ],
   "metadata": {
    "collapsed": false,
    "pycharm": {
     "name": "#%%\n"
    }
   }
  },
  {
   "cell_type": "markdown",
   "source": [
    "# Интерполирование сплайнами\n",
    "Пусть $f(x)=\\dfrac{1}{1+x^2},\\:x\\in\\left[-1;1\\right]$.<br>\n",
    "Вычислить значения функции для $x=-1+\\dfrac{h}{2},\\:-\\dfrac{h}{2},\\:\\dfrac{h}{2}$,\n",
    "$\\:1-\\dfrac{h}{2},\\:\\left(h=\\dfrac{2}{n},\\:n=4,\\:10, \\:20,\\:40\\right)$, применяя\n",
    "различные способы интерполирования:<br>\n",
    "$5.$ Сплайн $S_{31}(f,x)$ с узлами $x_k=-1+kh,\\:k=0,\\ldots,n$, и параметрами\n",
    "$m_i=S'(f,1x_i),i=0,\\ldots,n,$ в котором<br>\n",
    "$а).$ Граничные условия $I$ типа - $S^{'}(f,1)=f^{'}(1)$,\n",
    "$S^{'}(f,-1)=f^{'}(-1);$<br>\n",
    "$б).$ Граничные условия $II$ типа - $S^{''}(f,1)=f^{''}(1)$,\n",
    "$S^{''}(f,-1)=f^{''}(-1).$<br>\n",
    "$6.$ Сплайн $S_{31}(f,x)$ с узлами $x_k=-1+kh,\\:k=0,\\ldots,n$, и параметрами\n",
    "$M_i=S'(f,1x_i),i=0,\\ldots,n,$ в котором<br>\n",
    "$а).$ Граничные условия $I$ типа - $S^{'}(f,1)=f^{'}(1)$,\n",
    "$S^{'}(f,-1)=f^{'}(-1);$<br>\n",
    "$б).$ Граничные условия $II$ типа - $S^{''}(f,1)=f^{''}(1)$,\n",
    "$S^{''}(f,-1)=f^{''}(-1).$<br>\n",
    "\n",
    "\n",
    "<b>№5 а)</b> Сплайн $S_{31}(f,x)$ с узлами $x_k=-1+kh,\\:k=0,\\ldots,n$, и параметрами\n",
    "$m_i=S'(f,1x_i),i=0,\\ldots,n,$ в котором граничные условия $I$ типа -\n",
    "$S^{'}(f,1)=f^{'}(1)$,$S^{'}(f,-1)=f^{'}(-1);$"
   ],
   "metadata": {
    "collapsed": false,
    "pycharm": {
     "name": "#%% md\n"
    }
   }
  },
  {
   "cell_type": "code",
   "execution_count": 71,
   "outputs": [
    {
     "data": {
      "text/plain": "<IPython.core.display.Latex object>",
      "text/latex": "Случай, когда $n=4$:"
     },
     "metadata": {},
     "output_type": "display_data"
    },
    {
     "data": {
      "text/plain": "<IPython.core.display.Markdown object>",
      "text/markdown": "<br>"
     },
     "metadata": {},
     "output_type": "display_data"
    },
    {
     "data": {
      "text/plain": "<IPython.core.display.Latex object>",
      "text/latex": "$S_{I}(f,-0.750)=0.6542$;"
     },
     "metadata": {},
     "output_type": "display_data"
    },
    {
     "data": {
      "text/plain": "<IPython.core.display.Latex object>",
      "text/latex": "$S_{I}(f,-0.250)=0.8916$;"
     },
     "metadata": {},
     "output_type": "display_data"
    },
    {
     "data": {
      "text/plain": "<IPython.core.display.Latex object>",
      "text/latex": "$S_{I}(f,0.250)=0.9377$;"
     },
     "metadata": {},
     "output_type": "display_data"
    },
    {
     "data": {
      "text/plain": "<IPython.core.display.Latex object>",
      "text/latex": "$S_{I}(f,0.750)=0.6700$;"
     },
     "metadata": {},
     "output_type": "display_data"
    },
    {
     "data": {
      "text/plain": "<IPython.core.display.Markdown object>",
      "text/markdown": "<br>"
     },
     "metadata": {},
     "output_type": "display_data"
    },
    {
     "data": {
      "text/plain": "<IPython.core.display.Latex object>",
      "text/latex": "Случай, когда $n=10$:"
     },
     "metadata": {},
     "output_type": "display_data"
    },
    {
     "data": {
      "text/plain": "<IPython.core.display.Markdown object>",
      "text/markdown": "<br>"
     },
     "metadata": {},
     "output_type": "display_data"
    },
    {
     "data": {
      "text/plain": "<IPython.core.display.Latex object>",
      "text/latex": "$S_{I}(f,-0.900)=0.5568$;"
     },
     "metadata": {},
     "output_type": "display_data"
    },
    {
     "data": {
      "text/plain": "<IPython.core.display.Latex object>",
      "text/latex": "$S_{I}(f,-0.100)=0.9857$;"
     },
     "metadata": {},
     "output_type": "display_data"
    },
    {
     "data": {
      "text/plain": "<IPython.core.display.Latex object>",
      "text/latex": "$S_{I}(f,0.100)=0.9874$;"
     },
     "metadata": {},
     "output_type": "display_data"
    },
    {
     "data": {
      "text/plain": "<IPython.core.display.Latex object>",
      "text/latex": "$S_{I}(f,0.900)=0.5576$;"
     },
     "metadata": {},
     "output_type": "display_data"
    },
    {
     "data": {
      "text/plain": "<IPython.core.display.Markdown object>",
      "text/markdown": "<br>"
     },
     "metadata": {},
     "output_type": "display_data"
    },
    {
     "data": {
      "text/plain": "<IPython.core.display.Latex object>",
      "text/latex": "Случай, когда $n=20$:"
     },
     "metadata": {},
     "output_type": "display_data"
    },
    {
     "data": {
      "text/plain": "<IPython.core.display.Markdown object>",
      "text/markdown": "<br>"
     },
     "metadata": {},
     "output_type": "display_data"
    },
    {
     "data": {
      "text/plain": "<IPython.core.display.Latex object>",
      "text/latex": "$S_{I}(f,-0.950)=0.5265$;"
     },
     "metadata": {},
     "output_type": "display_data"
    },
    {
     "data": {
      "text/plain": "<IPython.core.display.Latex object>",
      "text/latex": "$S_{I}(f,-0.050)=0.9965$;"
     },
     "metadata": {},
     "output_type": "display_data"
    },
    {
     "data": {
      "text/plain": "<IPython.core.display.Latex object>",
      "text/latex": "$S_{I}(f,0.050)=0.9967$;"
     },
     "metadata": {},
     "output_type": "display_data"
    },
    {
     "data": {
      "text/plain": "<IPython.core.display.Latex object>",
      "text/latex": "$S_{I}(f,0.950)=0.5278$;"
     },
     "metadata": {},
     "output_type": "display_data"
    },
    {
     "data": {
      "text/plain": "<IPython.core.display.Markdown object>",
      "text/markdown": "<br>"
     },
     "metadata": {},
     "output_type": "display_data"
    },
    {
     "data": {
      "text/plain": "<IPython.core.display.Latex object>",
      "text/latex": "Случай, когда $n=40$:"
     },
     "metadata": {},
     "output_type": "display_data"
    },
    {
     "data": {
      "text/plain": "<IPython.core.display.Markdown object>",
      "text/markdown": "<br>"
     },
     "metadata": {},
     "output_type": "display_data"
    },
    {
     "data": {
      "text/plain": "<IPython.core.display.Latex object>",
      "text/latex": "$S_{I}(f,-0.975)=0.5130$;"
     },
     "metadata": {},
     "output_type": "display_data"
    },
    {
     "data": {
      "text/plain": "<IPython.core.display.Latex object>",
      "text/latex": "$S_{I}(f,-0.025)=0.9995$;"
     },
     "metadata": {},
     "output_type": "display_data"
    },
    {
     "data": {
      "text/plain": "<IPython.core.display.Latex object>",
      "text/latex": "$S_{I}(f,0.025)=0.9993$;"
     },
     "metadata": {},
     "output_type": "display_data"
    },
    {
     "data": {
      "text/plain": "<IPython.core.display.Latex object>",
      "text/latex": "$S_{I}(f,0.975)=0.5142$;"
     },
     "metadata": {},
     "output_type": "display_data"
    },
    {
     "data": {
      "text/plain": "<IPython.core.display.Markdown object>",
      "text/markdown": "<br>"
     },
     "metadata": {},
     "output_type": "display_data"
    }
   ],
   "source": [
    "N = (4, 10, 20, 40)\n",
    "Arguments = ((-1 + 1 / n, - 1 / n, 1 / n, 1 - 1 / n) for n in N)\n",
    "\n",
    "for X, n in zip(Arguments, N):\n",
    "    x_nodes, f_nodes = get_default_nodes(n)\n",
    "    answers = []\n",
    "    display(Latex(\"Случай, когда $n=%i$:\"%n), Markdown(\"<br>\"))\n",
    "    for x in X:\n",
    "        display(Latex(\"$S_{I}(f,%.3f)=%.4f$;\"\n",
    "                      %(x, spline1I(x, x_nodes, f_nodes))))\n",
    "    display(Markdown(\"<br>\"))"
   ],
   "metadata": {
    "collapsed": false,
    "pycharm": {
     "name": "#%%\n"
    }
   }
  },
  {
   "cell_type": "markdown",
   "source": [
    "<b>№5 б)</b> Сплайн $S_{31}(f,x)$ с узлами $x_k=-1+kh,\\:k=0,\\ldots,n$, и параметрами\n",
    "$m_i=S'(f,1x_i),i=0,\\ldots,n,$ в котором граничные условия $II$ типа -\n",
    "$S^{''}(f,1)=f^{''}(1)$,$S^{''}(f,-1)=f^{''}(-1);$"
   ],
   "metadata": {
    "collapsed": false
   }
  },
  {
   "cell_type": "code",
   "execution_count": 72,
   "outputs": [
    {
     "data": {
      "text/plain": "<IPython.core.display.Latex object>",
      "text/latex": "Случай, когда $n=4$:"
     },
     "metadata": {},
     "output_type": "display_data"
    },
    {
     "data": {
      "text/plain": "<IPython.core.display.Markdown object>",
      "text/markdown": "<br>"
     },
     "metadata": {},
     "output_type": "display_data"
    },
    {
     "data": {
      "text/plain": "<IPython.core.display.Latex object>",
      "text/latex": "$S_{II}(f,-0.750)=0.6385$;"
     },
     "metadata": {},
     "output_type": "display_data"
    },
    {
     "data": {
      "text/plain": "<IPython.core.display.Latex object>",
      "text/latex": "$S_{II}(f,-0.250)=0.9229$;"
     },
     "metadata": {},
     "output_type": "display_data"
    },
    {
     "data": {
      "text/plain": "<IPython.core.display.Latex object>",
      "text/latex": "$S_{II}(f,0.250)=0.9281$;"
     },
     "metadata": {},
     "output_type": "display_data"
    },
    {
     "data": {
      "text/plain": "<IPython.core.display.Latex object>",
      "text/latex": "$S_{II}(f,0.750)=0.6773$;"
     },
     "metadata": {},
     "output_type": "display_data"
    },
    {
     "data": {
      "text/plain": "<IPython.core.display.Markdown object>",
      "text/markdown": "<br>"
     },
     "metadata": {},
     "output_type": "display_data"
    },
    {
     "data": {
      "text/plain": "<IPython.core.display.Latex object>",
      "text/latex": "Случай, когда $n=10$:"
     },
     "metadata": {},
     "output_type": "display_data"
    },
    {
     "data": {
      "text/plain": "<IPython.core.display.Markdown object>",
      "text/markdown": "<br>"
     },
     "metadata": {},
     "output_type": "display_data"
    },
    {
     "data": {
      "text/plain": "<IPython.core.display.Latex object>",
      "text/latex": "$S_{II}(f,-0.900)=0.5513$;"
     },
     "metadata": {},
     "output_type": "display_data"
    },
    {
     "data": {
      "text/plain": "<IPython.core.display.Latex object>",
      "text/latex": "$S_{II}(f,-0.100)=0.9855$;"
     },
     "metadata": {},
     "output_type": "display_data"
    },
    {
     "data": {
      "text/plain": "<IPython.core.display.Latex object>",
      "text/latex": "$S_{II}(f,0.100)=0.9875$;"
     },
     "metadata": {},
     "output_type": "display_data"
    },
    {
     "data": {
      "text/plain": "<IPython.core.display.Latex object>",
      "text/latex": "$S_{II}(f,0.900)=0.5607$;"
     },
     "metadata": {},
     "output_type": "display_data"
    },
    {
     "data": {
      "text/plain": "<IPython.core.display.Markdown object>",
      "text/markdown": "<br>"
     },
     "metadata": {},
     "output_type": "display_data"
    },
    {
     "data": {
      "text/plain": "<IPython.core.display.Latex object>",
      "text/latex": "Случай, когда $n=20$:"
     },
     "metadata": {},
     "output_type": "display_data"
    },
    {
     "data": {
      "text/plain": "<IPython.core.display.Markdown object>",
      "text/markdown": "<br>"
     },
     "metadata": {},
     "output_type": "display_data"
    },
    {
     "data": {
      "text/plain": "<IPython.core.display.Latex object>",
      "text/latex": "$S_{II}(f,-0.950)=0.5241$;"
     },
     "metadata": {},
     "output_type": "display_data"
    },
    {
     "data": {
      "text/plain": "<IPython.core.display.Latex object>",
      "text/latex": "$S_{II}(f,-0.050)=0.9965$;"
     },
     "metadata": {},
     "output_type": "display_data"
    },
    {
     "data": {
      "text/plain": "<IPython.core.display.Latex object>",
      "text/latex": "$S_{II}(f,0.050)=0.9967$;"
     },
     "metadata": {},
     "output_type": "display_data"
    },
    {
     "data": {
      "text/plain": "<IPython.core.display.Latex object>",
      "text/latex": "$S_{II}(f,0.950)=0.5287$;"
     },
     "metadata": {},
     "output_type": "display_data"
    },
    {
     "data": {
      "text/plain": "<IPython.core.display.Markdown object>",
      "text/markdown": "<br>"
     },
     "metadata": {},
     "output_type": "display_data"
    },
    {
     "data": {
      "text/plain": "<IPython.core.display.Latex object>",
      "text/latex": "Случай, когда $n=40$:"
     },
     "metadata": {},
     "output_type": "display_data"
    },
    {
     "data": {
      "text/plain": "<IPython.core.display.Markdown object>",
      "text/markdown": "<br>"
     },
     "metadata": {},
     "output_type": "display_data"
    },
    {
     "data": {
      "text/plain": "<IPython.core.display.Latex object>",
      "text/latex": "$S_{II}(f,-0.975)=0.5118$;"
     },
     "metadata": {},
     "output_type": "display_data"
    },
    {
     "data": {
      "text/plain": "<IPython.core.display.Latex object>",
      "text/latex": "$S_{II}(f,-0.025)=0.9995$;"
     },
     "metadata": {},
     "output_type": "display_data"
    },
    {
     "data": {
      "text/plain": "<IPython.core.display.Latex object>",
      "text/latex": "$S_{II}(f,0.025)=0.9993$;"
     },
     "metadata": {},
     "output_type": "display_data"
    },
    {
     "data": {
      "text/plain": "<IPython.core.display.Latex object>",
      "text/latex": "$S_{II}(f,0.975)=0.5145$;"
     },
     "metadata": {},
     "output_type": "display_data"
    },
    {
     "data": {
      "text/plain": "<IPython.core.display.Markdown object>",
      "text/markdown": "<br>"
     },
     "metadata": {},
     "output_type": "display_data"
    }
   ],
   "source": [
    "N = (4, 10, 20, 40)\n",
    "Arguments = ((-1 + 1 / n, - 1 / n, 1 / n, 1 - 1 / n) for n in N)\n",
    "\n",
    "for X, n in zip(Arguments, N):\n",
    "    x_nodes, f_nodes = get_default_nodes(n)\n",
    "    answers = []\n",
    "    display(Latex(\"Случай, когда $n=%i$:\"%n), Markdown(\"<br>\"))\n",
    "    for x in X:\n",
    "        display(Latex(\"$S_{II}(f,%.3f)=%.4f$;\"\n",
    "                      %(x, spline1II(x, x_nodes, f_nodes))))\n",
    "    display(Markdown(\"<br>\"))"
   ],
   "metadata": {
    "collapsed": false,
    "pycharm": {
     "name": "#%%\n"
    }
   }
  },
  {
   "cell_type": "markdown",
   "source": [
    "<b>№6 а)</b> Сплайн $S_{31}(f,x)$ с узлами $x_k=-1+kh,\\:k=0,\\ldots,n$, и параметрами\n",
    "$M_i=S'(f,1x_i),i=0,\\ldots,n,$ в котором граничные условия $I$ типа -\n",
    "$S^{'}(f,1)=f^{'}(1)$,$S^{'}(f,-1)=f^{'}(-1);$"
   ],
   "metadata": {
    "collapsed": false
   }
  },
  {
   "cell_type": "code",
   "execution_count": 73,
   "outputs": [
    {
     "data": {
      "text/plain": "<IPython.core.display.Latex object>",
      "text/latex": "Случай, когда $n=4$:"
     },
     "metadata": {},
     "output_type": "display_data"
    },
    {
     "data": {
      "text/plain": "<IPython.core.display.Markdown object>",
      "text/markdown": "<br>"
     },
     "metadata": {},
     "output_type": "display_data"
    },
    {
     "data": {
      "text/plain": "<IPython.core.display.Latex object>",
      "text/latex": "$S_{II}(f,-0.750)=0.5807$;"
     },
     "metadata": {},
     "output_type": "display_data"
    },
    {
     "data": {
      "text/plain": "<IPython.core.display.Latex object>",
      "text/latex": "$S_{II}(f,-0.250)=0.7535$;"
     },
     "metadata": {},
     "output_type": "display_data"
    },
    {
     "data": {
      "text/plain": "<IPython.core.display.Latex object>",
      "text/latex": "$S_{II}(f,0.250)=0.9498$;"
     },
     "metadata": {},
     "output_type": "display_data"
    },
    {
     "data": {
      "text/plain": "<IPython.core.display.Latex object>",
      "text/latex": "$S_{II}(f,0.750)=0.7850$;"
     },
     "metadata": {},
     "output_type": "display_data"
    },
    {
     "data": {
      "text/plain": "<IPython.core.display.Markdown object>",
      "text/markdown": "<br>"
     },
     "metadata": {},
     "output_type": "display_data"
    },
    {
     "data": {
      "text/plain": "<IPython.core.display.Latex object>",
      "text/latex": "Случай, когда $n=10$:"
     },
     "metadata": {},
     "output_type": "display_data"
    },
    {
     "data": {
      "text/plain": "<IPython.core.display.Markdown object>",
      "text/markdown": "<br>"
     },
     "metadata": {},
     "output_type": "display_data"
    },
    {
     "data": {
      "text/plain": "<IPython.core.display.Latex object>",
      "text/latex": "$S_{II}(f,-0.900)=0.5451$;"
     },
     "metadata": {},
     "output_type": "display_data"
    },
    {
     "data": {
      "text/plain": "<IPython.core.display.Latex object>",
      "text/latex": "$S_{II}(f,-0.100)=0.9312$;"
     },
     "metadata": {},
     "output_type": "display_data"
    },
    {
     "data": {
      "text/plain": "<IPython.core.display.Latex object>",
      "text/latex": "$S_{II}(f,0.100)=0.9847$;"
     },
     "metadata": {},
     "output_type": "display_data"
    },
    {
     "data": {
      "text/plain": "<IPython.core.display.Latex object>",
      "text/latex": "$S_{II}(f,0.900)=0.6057$;"
     },
     "metadata": {},
     "output_type": "display_data"
    },
    {
     "data": {
      "text/plain": "<IPython.core.display.Markdown object>",
      "text/markdown": "<br>"
     },
     "metadata": {},
     "output_type": "display_data"
    },
    {
     "data": {
      "text/plain": "<IPython.core.display.Latex object>",
      "text/latex": "Случай, когда $n=20$:"
     },
     "metadata": {},
     "output_type": "display_data"
    },
    {
     "data": {
      "text/plain": "<IPython.core.display.Markdown object>",
      "text/markdown": "<br>"
     },
     "metadata": {},
     "output_type": "display_data"
    },
    {
     "data": {
      "text/plain": "<IPython.core.display.Latex object>",
      "text/latex": "$S_{II}(f,-0.950)=0.5261$;"
     },
     "metadata": {},
     "output_type": "display_data"
    },
    {
     "data": {
      "text/plain": "<IPython.core.display.Latex object>",
      "text/latex": "$S_{II}(f,-0.050)=0.9815$;"
     },
     "metadata": {},
     "output_type": "display_data"
    },
    {
     "data": {
      "text/plain": "<IPython.core.display.Latex object>",
      "text/latex": "$S_{II}(f,0.050)=0.9955$;"
     },
     "metadata": {},
     "output_type": "display_data"
    },
    {
     "data": {
      "text/plain": "<IPython.core.display.Latex object>",
      "text/latex": "$S_{II}(f,0.950)=0.5524$;"
     },
     "metadata": {},
     "output_type": "display_data"
    },
    {
     "data": {
      "text/plain": "<IPython.core.display.Markdown object>",
      "text/markdown": "<br>"
     },
     "metadata": {},
     "output_type": "display_data"
    },
    {
     "data": {
      "text/plain": "<IPython.core.display.Latex object>",
      "text/latex": "Случай, когда $n=40$:"
     },
     "metadata": {},
     "output_type": "display_data"
    },
    {
     "data": {
      "text/plain": "<IPython.core.display.Markdown object>",
      "text/markdown": "<br>"
     },
     "metadata": {},
     "output_type": "display_data"
    },
    {
     "data": {
      "text/plain": "<IPython.core.display.Latex object>",
      "text/latex": "$S_{II}(f,-0.975)=0.5128$;"
     },
     "metadata": {},
     "output_type": "display_data"
    },
    {
     "data": {
      "text/plain": "<IPython.core.display.Latex object>",
      "text/latex": "$S_{II}(f,-0.025)=0.9954$;"
     },
     "metadata": {},
     "output_type": "display_data"
    },
    {
     "data": {
      "text/plain": "<IPython.core.display.Latex object>",
      "text/latex": "$S_{II}(f,0.025)=0.9991$;"
     },
     "metadata": {},
     "output_type": "display_data"
    },
    {
     "data": {
      "text/plain": "<IPython.core.display.Latex object>",
      "text/latex": "$S_{II}(f,0.975)=0.5247$;"
     },
     "metadata": {},
     "output_type": "display_data"
    },
    {
     "data": {
      "text/plain": "<IPython.core.display.Markdown object>",
      "text/markdown": "<br>"
     },
     "metadata": {},
     "output_type": "display_data"
    }
   ],
   "source": [
    "N = (4, 10, 20, 40)\n",
    "Arguments = ((-1 + 1 / n, - 1 / n, 1 / n, 1 - 1 / n) for n in N)\n",
    "\n",
    "for X, n in zip(Arguments, N):\n",
    "    x_nodes, f_nodes = get_default_nodes(n)\n",
    "    answers = []\n",
    "    display(Latex(\"Случай, когда $n=%i$:\"%n), Markdown(\"<br>\"))\n",
    "    for x in X:\n",
    "        display(Latex(\"$S_{II}(f,%.3f)=%.4f$;\"\n",
    "                      %(x, spline2I(x, x_nodes, f_nodes))))\n",
    "    display(Markdown(\"<br>\"))"
   ],
   "metadata": {
    "collapsed": false,
    "pycharm": {
     "name": "#%%\n"
    }
   }
  },
  {
   "cell_type": "markdown",
   "source": [
    "<b>№6 б)</b> Сплайн $S_{31}(f,x)$ с узлами $x_k=-1+kh,\\:k=0,\\ldots,n$, и параметрами\n",
    "$M_i=S'(f,1x_i),i=0,\\ldots,n,$ в котором граничные условия $II$ типа -\n",
    "$S^{''}(f,1)=f^{''}(1)$,$S^{''}(f,-1)=f^{''}(-1);$"
   ],
   "metadata": {
    "collapsed": false
   }
  },
  {
   "cell_type": "code",
   "execution_count": 74,
   "outputs": [
    {
     "data": {
      "text/plain": "<IPython.core.display.Latex object>",
      "text/latex": "Случай, когда $n=4$:"
     },
     "metadata": {},
     "output_type": "display_data"
    },
    {
     "data": {
      "text/plain": "<IPython.core.display.Markdown object>",
      "text/markdown": "<br>"
     },
     "metadata": {},
     "output_type": "display_data"
    },
    {
     "data": {
      "text/plain": "<IPython.core.display.Latex object>",
      "text/latex": "$S_{II}(f,-0.750)=0.5868$;"
     },
     "metadata": {},
     "output_type": "display_data"
    },
    {
     "data": {
      "text/plain": "<IPython.core.display.Latex object>",
      "text/latex": "$S_{II}(f,-0.250)=0.7615$;"
     },
     "metadata": {},
     "output_type": "display_data"
    },
    {
     "data": {
      "text/plain": "<IPython.core.display.Latex object>",
      "text/latex": "$S_{II}(f,0.250)=0.9455$;"
     },
     "metadata": {},
     "output_type": "display_data"
    },
    {
     "data": {
      "text/plain": "<IPython.core.display.Latex object>",
      "text/latex": "$S_{II}(f,0.750)=0.7942$;"
     },
     "metadata": {},
     "output_type": "display_data"
    },
    {
     "data": {
      "text/plain": "<IPython.core.display.Markdown object>",
      "text/markdown": "<br>"
     },
     "metadata": {},
     "output_type": "display_data"
    },
    {
     "data": {
      "text/plain": "<IPython.core.display.Latex object>",
      "text/latex": "Случай, когда $n=10$:"
     },
     "metadata": {},
     "output_type": "display_data"
    },
    {
     "data": {
      "text/plain": "<IPython.core.display.Markdown object>",
      "text/markdown": "<br>"
     },
     "metadata": {},
     "output_type": "display_data"
    },
    {
     "data": {
      "text/plain": "<IPython.core.display.Latex object>",
      "text/latex": "$S_{II}(f,-0.900)=0.5543$;"
     },
     "metadata": {},
     "output_type": "display_data"
    },
    {
     "data": {
      "text/plain": "<IPython.core.display.Latex object>",
      "text/latex": "$S_{II}(f,-0.100)=0.9311$;"
     },
     "metadata": {},
     "output_type": "display_data"
    },
    {
     "data": {
      "text/plain": "<IPython.core.display.Latex object>",
      "text/latex": "$S_{II}(f,0.100)=0.9847$;"
     },
     "metadata": {},
     "output_type": "display_data"
    },
    {
     "data": {
      "text/plain": "<IPython.core.display.Latex object>",
      "text/latex": "$S_{II}(f,0.900)=0.6082$;"
     },
     "metadata": {},
     "output_type": "display_data"
    },
    {
     "data": {
      "text/plain": "<IPython.core.display.Markdown object>",
      "text/markdown": "<br>"
     },
     "metadata": {},
     "output_type": "display_data"
    },
    {
     "data": {
      "text/plain": "<IPython.core.display.Latex object>",
      "text/latex": "Случай, когда $n=20$:"
     },
     "metadata": {},
     "output_type": "display_data"
    },
    {
     "data": {
      "text/plain": "<IPython.core.display.Markdown object>",
      "text/markdown": "<br>"
     },
     "metadata": {},
     "output_type": "display_data"
    },
    {
     "data": {
      "text/plain": "<IPython.core.display.Latex object>",
      "text/latex": "$S_{II}(f,-0.950)=0.5292$;"
     },
     "metadata": {},
     "output_type": "display_data"
    },
    {
     "data": {
      "text/plain": "<IPython.core.display.Latex object>",
      "text/latex": "$S_{II}(f,-0.050)=0.9815$;"
     },
     "metadata": {},
     "output_type": "display_data"
    },
    {
     "data": {
      "text/plain": "<IPython.core.display.Latex object>",
      "text/latex": "$S_{II}(f,0.050)=0.9955$;"
     },
     "metadata": {},
     "output_type": "display_data"
    },
    {
     "data": {
      "text/plain": "<IPython.core.display.Latex object>",
      "text/latex": "$S_{II}(f,0.950)=0.5526$;"
     },
     "metadata": {},
     "output_type": "display_data"
    },
    {
     "data": {
      "text/plain": "<IPython.core.display.Markdown object>",
      "text/markdown": "<br>"
     },
     "metadata": {},
     "output_type": "display_data"
    },
    {
     "data": {
      "text/plain": "<IPython.core.display.Latex object>",
      "text/latex": "Случай, когда $n=40$:"
     },
     "metadata": {},
     "output_type": "display_data"
    },
    {
     "data": {
      "text/plain": "<IPython.core.display.Markdown object>",
      "text/markdown": "<br>"
     },
     "metadata": {},
     "output_type": "display_data"
    },
    {
     "data": {
      "text/plain": "<IPython.core.display.Latex object>",
      "text/latex": "$S_{II}(f,-0.975)=0.5152$;"
     },
     "metadata": {},
     "output_type": "display_data"
    },
    {
     "data": {
      "text/plain": "<IPython.core.display.Latex object>",
      "text/latex": "$S_{II}(f,-0.025)=0.9954$;"
     },
     "metadata": {},
     "output_type": "display_data"
    },
    {
     "data": {
      "text/plain": "<IPython.core.display.Latex object>",
      "text/latex": "$S_{II}(f,0.025)=0.9991$;"
     },
     "metadata": {},
     "output_type": "display_data"
    },
    {
     "data": {
      "text/plain": "<IPython.core.display.Latex object>",
      "text/latex": "$S_{II}(f,0.975)=0.5251$;"
     },
     "metadata": {},
     "output_type": "display_data"
    },
    {
     "data": {
      "text/plain": "<IPython.core.display.Markdown object>",
      "text/markdown": "<br>"
     },
     "metadata": {},
     "output_type": "display_data"
    }
   ],
   "source": [
    "N = (4, 10, 20, 40)\n",
    "Arguments = ((-1 + 1 / n, - 1 / n, 1 / n, 1 - 1 / n) for n in N)\n",
    "\n",
    "for X, n in zip(Arguments, N):\n",
    "    x_nodes, f_nodes = get_default_nodes(n)\n",
    "    answers = []\n",
    "    display(Latex(\"Случай, когда $n=%i$:\"%n), Markdown(\"<br>\"))\n",
    "    for x in X:\n",
    "        display(Latex(\"$S_{II}(f,%.3f)=%.4f$;\"\n",
    "                      %(x, spline2II(x, x_nodes, f_nodes))))\n",
    "    display(Markdown(\"<br>\"))"
   ],
   "metadata": {
    "collapsed": false,
    "pycharm": {
     "name": "#%%\n"
    }
   }
  },
  {
   "cell_type": "markdown",
   "source": [
    "Вычисленные значения функции $f$ в точках:"
   ],
   "metadata": {
    "collapsed": false
   }
  },
  {
   "cell_type": "code",
   "execution_count": 75,
   "outputs": [
    {
     "data": {
      "text/plain": "<IPython.core.display.Latex object>",
      "text/latex": "$f(-0.750)=0.6400$;"
     },
     "metadata": {},
     "output_type": "display_data"
    },
    {
     "data": {
      "text/plain": "<IPython.core.display.Latex object>",
      "text/latex": "$f(-0.250)=0.9410$;"
     },
     "metadata": {},
     "output_type": "display_data"
    },
    {
     "data": {
      "text/plain": "<IPython.core.display.Latex object>",
      "text/latex": "$f(0.250)=0.9410$;"
     },
     "metadata": {},
     "output_type": "display_data"
    },
    {
     "data": {
      "text/plain": "<IPython.core.display.Latex object>",
      "text/latex": "$f(0.750)=0.6400$;"
     },
     "metadata": {},
     "output_type": "display_data"
    },
    {
     "data": {
      "text/plain": "<IPython.core.display.Latex object>",
      "text/latex": "$f(-0.900)=0.5520$;"
     },
     "metadata": {},
     "output_type": "display_data"
    },
    {
     "data": {
      "text/plain": "<IPython.core.display.Latex object>",
      "text/latex": "$f(-0.100)=0.9900$;"
     },
     "metadata": {},
     "output_type": "display_data"
    },
    {
     "data": {
      "text/plain": "<IPython.core.display.Latex object>",
      "text/latex": "$f(0.100)=0.9900$;"
     },
     "metadata": {},
     "output_type": "display_data"
    },
    {
     "data": {
      "text/plain": "<IPython.core.display.Latex object>",
      "text/latex": "$f(0.900)=0.5520$;"
     },
     "metadata": {},
     "output_type": "display_data"
    },
    {
     "data": {
      "text/plain": "<IPython.core.display.Latex object>",
      "text/latex": "$f(-0.950)=0.5260$;"
     },
     "metadata": {},
     "output_type": "display_data"
    },
    {
     "data": {
      "text/plain": "<IPython.core.display.Latex object>",
      "text/latex": "$f(-0.050)=0.9980$;"
     },
     "metadata": {},
     "output_type": "display_data"
    },
    {
     "data": {
      "text/plain": "<IPython.core.display.Latex object>",
      "text/latex": "$f(0.050)=0.9980$;"
     },
     "metadata": {},
     "output_type": "display_data"
    },
    {
     "data": {
      "text/plain": "<IPython.core.display.Latex object>",
      "text/latex": "$f(0.950)=0.5260$;"
     },
     "metadata": {},
     "output_type": "display_data"
    },
    {
     "data": {
      "text/plain": "<IPython.core.display.Latex object>",
      "text/latex": "$f(-0.975)=0.5130$;"
     },
     "metadata": {},
     "output_type": "display_data"
    },
    {
     "data": {
      "text/plain": "<IPython.core.display.Latex object>",
      "text/latex": "$f(-0.025)=0.9990$;"
     },
     "metadata": {},
     "output_type": "display_data"
    },
    {
     "data": {
      "text/plain": "<IPython.core.display.Latex object>",
      "text/latex": "$f(0.025)=0.9990$;"
     },
     "metadata": {},
     "output_type": "display_data"
    },
    {
     "data": {
      "text/plain": "<IPython.core.display.Latex object>",
      "text/latex": "$f(0.975)=0.5130$;"
     },
     "metadata": {},
     "output_type": "display_data"
    }
   ],
   "source": [
    "N = (4, 10, 20, 40)\n",
    "Arguments = ((-1 + 1 / n, - 1 / n, 1 / n, 1 - 1 / n) for n in N)\n",
    "for X in Arguments:\n",
    "    for x in X:\n",
    "        display(Latex(\"$f(%.3f)=%.4f$;\"%(x, func_Runge(x))))\n"
   ],
   "metadata": {
    "collapsed": false,
    "pycharm": {
     "name": "#%%\n"
    }
   }
  }
 ],
 "metadata": {
  "kernelspec": {
   "display_name": "Python 3",
   "language": "python",
   "name": "python3"
  },
  "language_info": {
   "codemirror_mode": {
    "name": "ipython",
    "version": 2
   },
   "file_extension": ".py",
   "mimetype": "text/x-python",
   "name": "python",
   "nbconvert_exporter": "python",
   "pygments_lexer": "ipython2",
   "version": "2.7.6"
  }
 },
 "nbformat": 4,
 "nbformat_minor": 0
}